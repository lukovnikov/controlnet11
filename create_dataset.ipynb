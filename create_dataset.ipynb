{
 "cells": [
  {
   "cell_type": "code",
   "execution_count": 1,
   "id": "bb97a8bc",
   "metadata": {},
   "outputs": [],
   "source": [
    "%load_ext autoreload\n",
    "%autoreload 2"
   ]
  },
  {
   "cell_type": "code",
   "execution_count": 2,
   "id": "b07f6c77",
   "metadata": {},
   "outputs": [
    {
     "name": "stdout",
     "output_type": "stream",
     "text": [
      "No module 'xformers'. Proceeding without it.\n",
      "logging improved.\n"
     ]
    },
    {
     "name": "stderr",
     "output_type": "stream",
     "text": [
      "/USERSPACE/lukovdg1/venvs/controlnet/lib/python3.9/site-packages/torchvision/transforms/functional_tensor.py:5: UserWarning: The torchvision.transforms.functional_tensor module is deprecated in 0.15 and will be **removed in 0.17**. Please don't rely on it. You probably just need to use APIs in torchvision.transforms.functional or in torchvision.transforms.v2.functional.\n",
      "  warnings.warn(\n"
     ]
    }
   ],
   "source": [
    "import re\n",
    "from dataset import COCOPanopticDataset, COCODataLoader, COCOPanopticExample\n",
    "from copy import copy, deepcopy\n",
    "import json\n",
    "from PIL import Image\n",
    "import pickle as pkl\n",
    "\n",
    "from gradio_pww import unpack_layers\n",
    "import psd_tools\n",
    "import numpy as np\n",
    "import torch\n",
    "from pathlib import Path\n",
    "from functools import partial\n",
    "import itertools\n",
    "import random"
   ]
  },
  {
   "cell_type": "code",
   "execution_count": 6,
   "id": "7a5c0049",
   "metadata": {},
   "outputs": [],
   "source": [
    "def seed_everything(seed: int):\n",
    "    import random, os\n",
    "    import numpy as np\n",
    "    import torch\n",
    "    \n",
    "    random.seed(seed)\n",
    "    os.environ['PYTHONHASHSEED'] = str(seed)\n",
    "    np.random.seed(seed)\n",
    "    torch.manual_seed(seed)\n",
    "    torch.cuda.manual_seed(seed)\n",
    "    torch.backends.cudnn.deterministic = True\n",
    "    torch.backends.cudnn.benchmark = True"
   ]
  },
  {
   "cell_type": "code",
   "execution_count": 7,
   "id": "f9b387f7",
   "metadata": {},
   "outputs": [],
   "source": [
    "def segmap_from_layers(layers, globalprompt):\n",
    "    ret = None\n",
    "    retdict = {}\n",
    "    for i, layer in enumerate(layers):\n",
    "        randomcolor = torch.randint(0, 256, (3,))     # RGB\n",
    "        code = randomcolor[0].item() + randomcolor[1].item() * 256 + randomcolor[2].item() * (256**2)\n",
    "        if f\":{i}}}\" in globalprompt:\n",
    "            globalprompt = re.sub(f\"\\:{i}\\\\}}\", f\":{code}}}\", globalprompt)\n",
    "        mask = layer[(512,512)]\n",
    "        maskcolor = mask.unsqueeze(-1).repeat(1, 1, 3) * randomcolor[None, None, :]\n",
    "        if ret is None:\n",
    "            ret = torch.zeros_like(maskcolor)\n",
    "        ret = torch.where(mask.unsqueeze(-1) > 0.5, maskcolor, ret)\n",
    "        retdict[code] = {\"caption\": layer[\"pos\"]}\n",
    "        print(layer[\"pos\"])\n",
    "        maskimg = mask[:,:, None].repeat(1,1,3).long().cpu().numpy() * 255\n",
    "        print(maskimg.shape, maskimg.max())\n",
    "        display(Image.fromarray(maskimg.astype(np.uint8)))\n",
    "        \n",
    "    ret = (ret).to(torch.long).cpu().numpy()\n",
    "    \n",
    "    return ret, retdict, globalprompt\n",
    "\n",
    "def psd_to_cocopanoptic(fp):\n",
    "    layers = psd_tools.PSDImage.open(fp)\n",
    "    spec = unpack_layers(layers)\n",
    "    segmap, prompts, globalprompt = segmap_from_layers(spec[\"layers\"], spec[\"global\"][\"pos\"])\n",
    "    img = Image.fromarray(segmap.astype(np.uint8))\n",
    "    ret = COCOPanopticExample(\n",
    "        id=-1,\n",
    "        img=img,\n",
    "        captions=[globalprompt],\n",
    "        seg_img=img,\n",
    "        seg_info=prompts,\n",
    "        cropsize=512\n",
    "    )\n",
    "    return ret\n",
    "\n",
    "def display_example(x):\n",
    "    display(x.load_seg_image())\n",
    "    print(x.captions)\n",
    "    print(repr(x.seg_info))\n"
   ]
  },
  {
   "cell_type": "code",
   "execution_count": 11,
   "id": "134a942b-e6a5-4211-aeee-91cb86f2496c",
   "metadata": {},
   "outputs": [],
   "source": [
    "seed_everything(44)"
   ]
  },
  {
   "cell_type": "code",
   "execution_count": 12,
   "id": "1225a399",
   "metadata": {},
   "outputs": [],
   "source": [
    "# examples with three circular shapes\n",
    "threecirclesexamples = []"
   ]
  },
  {
   "cell_type": "code",
   "execution_count": 13,
   "id": "c6dd9484",
   "metadata": {},
   "outputs": [
    {
     "name": "stdout",
     "output_type": "stream",
     "text": [
      "a highly detailed photorealistic image of a wooden table\n",
      "(512, 512, 3) 255\n"
     ]
    },
    {
     "data": {
      "image/png": "[encoded data removed]",
      "text/plain": [
       "<PIL.Image.Image image mode=RGB size=512x512>"
      ]
     },
     "metadata": {},
     "output_type": "display_data"
    },
    {
     "name": "stdout",
     "output_type": "stream",
     "text": [
      "a highly detailed photorealistic image of a red tennis ball\n",
      "(512, 512, 3) 255\n"
     ]
    },
    {
     "data": {
      "image/png": "[encoded data removed]",
      "text/plain": [
       "<PIL.Image.Image image mode=RGB size=512x512>"
      ]
     },
     "metadata": {},
     "output_type": "display_data"
    },
    {
     "name": "stdout",
     "output_type": "stream",
     "text": [
      "a highly detailed photorealistic image of a blue crystal ball\n",
      "(512, 512, 3) 255\n"
     ]
    },
    {
     "data": {
      "image/png": "[encoded data removed]",
      "text/plain": [
       "<PIL.Image.Image image mode=RGB size=512x512>"
      ]
     },
     "metadata": {},
     "output_type": "display_data"
    },
    {
     "name": "stdout",
     "output_type": "stream",
     "text": [
      "a highly detailed photorealistic image of a gold coin\n",
      "(512, 512, 3) 255\n"
     ]
    },
    {
     "data": {
      "image/png": "[encoded data removed]",
      "text/plain": [
       "<PIL.Image.Image image mode=RGB size=512x512>"
      ]
     },
     "metadata": {},
     "output_type": "display_data"
    },
    {
     "data": {
      "image/png": "[encoded data removed]",
      "text/plain": [
       "<PIL.Image.Image image mode=RGB size=512x512>"
      ]
     },
     "metadata": {},
     "output_type": "display_data"
    },
    {
     "name": "stdout",
     "output_type": "stream",
     "text": [
      "['a highly detailed photorealistic image of {a gold coin:7924463}, {a blue crystal ball:8606816} and {a red tennis ball:8600493} on {a wooden table:15835924}.']\n",
      "{15835924: {'caption': 'a highly detailed photorealistic image of a wooden table'}, 8600493: {'caption': 'a highly detailed photorealistic image of a red tennis ball'}, 8606816: {'caption': 'a highly detailed photorealistic image of a blue crystal ball'}, 7924463: {'caption': 'a highly detailed photorealistic image of a gold coin'}}\n"
     ]
    }
   ],
   "source": [
    "fp = 'evaldata/threeballs.psd'\n",
    "\n",
    "example = psd_to_cocopanoptic(fp)\n",
    "display_example(example)"
   ]
  },
  {
   "cell_type": "code",
   "execution_count": 14,
   "id": "3bacba3f",
   "metadata": {},
   "outputs": [],
   "source": [
    "# create prototype from example\n",
    "\n",
    "def _replace_func(matchobj, key=\"\", repl=\"\"):\n",
    "    # matchobj: \"{<OBJA>:1234}\", key=\"<OBJA>\", repl=\"a sunny {day}\", output: \"a sunny {day:1234}\"\n",
    "    m = re.match(\"^[^\\{]+\\{([^\\}]+)\\}.*$\", repl)\n",
    "    src = matchobj.group(0)\n",
    "    if m:\n",
    "        corerepl = m.group(1)     # \"day\"\n",
    "        src = src.replace(key, corerepl)    # \"{day:1234}\"\n",
    "        ret = repl.replace(\"{\" + corerepl + \"}\", src)\n",
    "    else:\n",
    "        ret = src.replace(key, repl)\n",
    "    return ret\n",
    "    \n",
    "\n",
    "def replace_in_captions(x, repls):\n",
    "    newcaptions = []\n",
    "    for caption in x.captions:\n",
    "        for k, v in repls.items():\n",
    "            caption = re.sub(r\"{{{k}:\\d+}}\".format(k=k), partial(_replace_func, key=k, repl=v), caption)\n",
    "            caption = caption.replace(k, v)\n",
    "        newcaptions.append(caption)\n",
    "\n",
    "    new_seg_info = {}\n",
    "    for regioncode, regioninfo in x.seg_info.items():\n",
    "        caption = regioninfo[\"caption\"]\n",
    "        for k, v in repls.items():\n",
    "            v = re.sub(r\"\\{([^\\}]+)\\}\", r\"\\1\", v)\n",
    "            caption = caption.replace(k, v)\n",
    "        new_seg_info[regioncode] = {\"caption\": caption}\n",
    "\n",
    "    ret = deepcopy(x)\n",
    "    ret.captions = newcaptions\n",
    "    ret.seg_info = new_seg_info\n",
    "    return ret"
   ]
  },
  {
   "cell_type": "code",
   "execution_count": 16,
   "id": "88f47455",
   "metadata": {},
   "outputs": [
    {
     "data": {
      "image/png": "[encoded data removed]",
      "text/plain": [
       "<PIL.Image.Image image mode=RGB size=512x512>"
      ]
     },
     "metadata": {},
     "output_type": "display_data"
    },
    {
     "name": "stdout",
     "output_type": "stream",
     "text": [
      "['a highly detailed photorealistic image of {<OBJ_A>:7924463}, {<OBJ_B>:8606816} and {<OBJ_C>:8600493} on {<OBJ_D>:15835924}.']\n",
      "{15835924: {'caption': 'a highly detailed photorealistic image of <OBJ_D>'}, 8600493: {'caption': 'a highly detailed photorealistic image of <OBJ_C>'}, 8606816: {'caption': 'a highly detailed photorealistic image of <OBJ_B>'}, 7924463: {'caption': 'a highly detailed photorealistic image of <OBJ_A>'}}\n"
     ]
    }
   ],
   "source": [
    "repls = {\n",
    "    \"a gold coin\": \"<OBJ_A>\",\n",
    "    \"a blue crystal ball\": \"<OBJ_B>\",\n",
    "    \"a red tennis ball\": \"<OBJ_C>\",\n",
    "    \"a wooden table\": \"<OBJ_D>\"\n",
    "}\n",
    "prototype = replace_in_captions(example, repls)\n",
    "display_example(prototype)"
   ]
  },
  {
   "cell_type": "code",
   "execution_count": 24,
   "id": "3670211b",
   "metadata": {},
   "outputs": [],
   "source": [
    "import random\n",
    "import itertools"
   ]
  },
  {
   "cell_type": "code",
   "execution_count": 25,
   "id": "d361dd08-213d-4a23-b9a1-7a90affc2c90",
   "metadata": {},
   "outputs": [
    {
     "name": "stdout",
     "output_type": "stream",
     "text": [
      "72\n",
      "{'<OBJ_D>': 'grass', '<OBJ_A>': 'a red crystal ball', '<OBJ_B>': 'a blue ping pong ball', '<OBJ_C>': 'a yellow tennis ball'}\n",
      "{'<OBJ_D>': 'grass', '<OBJ_A>': 'a blue crystal ball', '<OBJ_B>': 'a yellow ping pong ball', '<OBJ_C>': 'a red tennis ball'}\n",
      "{'<OBJ_D>': 'grass', '<OBJ_A>': 'a blue ping pong ball', '<OBJ_B>': 'a yellow tennis ball', '<OBJ_C>': 'a red crystal ball'}\n",
      "{'<OBJ_D>': 'a wooden table', '<OBJ_A>': 'a yellow ping pong ball', '<OBJ_B>': 'a red crystal ball', '<OBJ_C>': 'a blue tennis ball'}\n",
      "{'<OBJ_D>': 'grass', '<OBJ_A>': 'a yellow tennis ball', '<OBJ_B>': 'a blue ping pong ball', '<OBJ_C>': 'a red crystal ball'}\n",
      "{'<OBJ_D>': 'grass', '<OBJ_A>': 'a blue ping pong ball', '<OBJ_B>': 'a red tennis ball', '<OBJ_C>': 'a yellow crystal ball'}\n",
      "{'<OBJ_D>': 'a wooden table', '<OBJ_A>': 'a yellow tennis ball', '<OBJ_B>': 'a red ping pong ball', '<OBJ_C>': 'a blue crystal ball'}\n",
      "{'<OBJ_D>': 'grass', '<OBJ_A>': 'a yellow tennis ball', '<OBJ_B>': 'a blue crystal ball', '<OBJ_C>': 'a red ping pong ball'}\n",
      "{'<OBJ_D>': 'grass', '<OBJ_A>': 'a blue tennis ball', '<OBJ_B>': 'a yellow crystal ball', '<OBJ_C>': 'a red ping pong ball'}\n",
      "{'<OBJ_D>': 'a wooden table', '<OBJ_A>': 'a yellow tennis ball', '<OBJ_B>': 'a blue crystal ball', '<OBJ_C>': 'a red ping pong ball'}\n",
      "74\n",
      "{'<OBJ_D>': 'a wooden table', '<OBJ_A>': 'a red crystal ball', '<OBJ_B>': 'a red tennis ball', '<OBJ_C>': 'a yellow ping pong ball'}\n",
      "{'<OBJ_D>': 'grass', '<OBJ_A>': 'a red tennis ball', '<OBJ_B>': 'a blue tennis ball', '<OBJ_C>': 'a yellow ping pong ball'}\n",
      "{'<OBJ_D>': 'a wooden table', '<OBJ_A>': 'a red crystal ball', '<OBJ_B>': 'a red ping pong ball', '<OBJ_C>': 'a yellow ping pong ball'}\n",
      "{'<OBJ_D>': 'grass', '<OBJ_A>': 'a red crystal ball', '<OBJ_B>': 'a yellow crystal ball', '<OBJ_C>': 'a yellow ping pong ball'}\n",
      "{'<OBJ_D>': 'a wooden table', '<OBJ_A>': 'a yellow crystal ball', '<OBJ_B>': 'a yellow tennis ball', '<OBJ_C>': 'a yellow ping pong ball'}\n",
      "{'<OBJ_D>': 'grass', '<OBJ_A>': 'a red crystal ball', '<OBJ_B>': 'a blue crystal ball', '<OBJ_C>': 'a blue ping pong ball'}\n",
      "{'<OBJ_D>': 'grass', '<OBJ_A>': 'a blue crystal ball', '<OBJ_B>': 'a yellow crystal ball', '<OBJ_C>': 'a yellow tennis ball'}\n",
      "{'<OBJ_D>': 'grass', '<OBJ_A>': 'a red crystal ball', '<OBJ_B>': 'a red tennis ball', '<OBJ_C>': 'a blue ping pong ball'}\n",
      "{'<OBJ_D>': 'a wooden table', '<OBJ_A>': 'a red tennis ball', '<OBJ_B>': 'a blue tennis ball', '<OBJ_C>': 'a yellow ping pong ball'}\n",
      "{'<OBJ_D>': 'grass', '<OBJ_A>': 'a red tennis ball', '<OBJ_B>': 'a blue tennis ball', '<OBJ_C>': 'a yellow tennis ball'}\n"
     ]
    }
   ],
   "source": [
    "# setting one: balls\n",
    "objects = [\"a {color} crystal ball\", \"a {color} tennis ball\", \"a {color} ping pong ball\"]\n",
    "object_colors = [\"red\", \"blue\", \"yellow\"]\n",
    "backgrounds = [\"a wooden table\", \"grass\"]\n",
    "\n",
    "retspecs = []\n",
    "\n",
    "# iterate through possible permutations\n",
    "specs = []\n",
    "for bgr in backgrounds:\n",
    "    spec = {\"<OBJ_D>\": bgr}\n",
    "    for objperm in itertools.permutations(objects, 3):\n",
    "        # print(objperm)\n",
    "        for colorperm in itertools.permutations(object_colors, 3):\n",
    "            for posname, obj, color in zip([\"<OBJ_A>\", \"<OBJ_B>\", \"<OBJ_C>\"], objperm, colorperm):\n",
    "                spec[posname] = obj.format(color=color)\n",
    "            specs.append(deepcopy(spec))\n",
    "            \n",
    "print(len(specs))\n",
    "random.shuffle(specs)\n",
    "specs = specs[:10]\n",
    "retspecs += specs\n",
    "\n",
    "for spec in specs:\n",
    "    print(spec)\n",
    "    \n",
    "    \n",
    "# iterate through possible combinations\n",
    "specs = []\n",
    "for bgr in backgrounds:\n",
    "    spec = {\"<OBJ_D>\": bgr}\n",
    "    specset = set()\n",
    "    for objperm in itertools.combinations_with_replacement(objects, 3):\n",
    "        # print(objperm)\n",
    "        _spec = deepcopy(spec)\n",
    "        for colorperm in itertools.combinations_with_replacement(object_colors, 3):\n",
    "            for posname, obj, color in zip([\"<OBJ_A>\", \"<OBJ_B>\", \"<OBJ_C>\"], objperm, colorperm):\n",
    "                _spec[posname] = obj.format(color=color)\n",
    "            specset = set(_spec.values())\n",
    "            if len(specset) < len(_spec):\n",
    "                continue\n",
    "            specs.append(deepcopy(_spec))\n",
    "            \n",
    "print(len(specs))\n",
    "random.shuffle(specs)\n",
    "specs = specs[:10]\n",
    "retspecs += specs\n",
    "\n",
    "for spec in specs:\n",
    "    print(spec)\n",
    "            "
   ]
  },
  {
   "cell_type": "code",
   "execution_count": 27,
   "id": "99c51e0f",
   "metadata": {},
   "outputs": [],
   "source": [
    "examples = []\n",
    "for spec in retspecs:\n",
    "    x = replace_in_captions(prototype, spec)\n",
    "    # display_example(x)\n",
    "    examples.append(x)\n",
    "    \n",
    "Path(\"evaldata/\").mkdir(exist_ok=True)\n",
    "with open(\"evaldata/threeballs3.pkl\", \"wb\") as f:\n",
    "    pkl.dump(examples, f)\n",
    "\n",
    "with open(\"evaldata/threeballs3.spec.json\", \"w\") as f:\n",
    "    for i in range(len(retspecs)):\n",
    "        retspecs[i][\"i\"] = i\n",
    "    json.dump(retspecs, f, indent=4)\n",
    "    \n"
   ]
  },
  {
   "cell_type": "code",
   "execution_count": 28,
   "id": "c5bf3f79",
   "metadata": {},
   "outputs": [
    {
     "name": "stdout",
     "output_type": "stream",
     "text": [
      "1440\n",
      "{'<OBJ_D>': 'a wooden table', '<OBJ_A>': 'a pink ball', '<OBJ_B>': 'a yellow ball', '<OBJ_C>': 'a white ball'}\n",
      "{'<OBJ_D>': 'grass', '<OBJ_A>': 'a red ball', '<OBJ_B>': 'a white ball', '<OBJ_C>': 'a pink ball'}\n",
      "{'<OBJ_D>': 'a wooden table', '<OBJ_A>': 'a pink ball', '<OBJ_B>': 'a blue ball', '<OBJ_C>': 'a white ball'}\n",
      "{'<OBJ_D>': 'grass', '<OBJ_A>': 'a pink ball', '<OBJ_B>': 'a red ball', '<OBJ_C>': 'a white ball'}\n",
      "{'<OBJ_D>': 'grass', '<OBJ_A>': 'a yellow ball', '<OBJ_B>': 'a green ball', '<OBJ_C>': 'a pink ball'}\n",
      "{'<OBJ_D>': 'a wooden table', '<OBJ_A>': 'a pink ball', '<OBJ_B>': 'a blue ball', '<OBJ_C>': 'a white ball'}\n",
      "{'<OBJ_D>': 'a wooden table', '<OBJ_A>': 'a yellow ball', '<OBJ_B>': 'a white ball', '<OBJ_C>': 'a red ball'}\n",
      "{'<OBJ_D>': 'a wooden table', '<OBJ_A>': 'a white ball', '<OBJ_B>': 'a red ball', '<OBJ_C>': 'a yellow ball'}\n",
      "{'<OBJ_D>': 'a wooden table', '<OBJ_A>': 'a pink ball', '<OBJ_B>': 'a red ball', '<OBJ_C>': 'a blue ball'}\n",
      "{'<OBJ_D>': 'grass', '<OBJ_A>': 'a red ball', '<OBJ_B>': 'a blue ball', '<OBJ_C>': 'a pink ball'}\n",
      "{'<OBJ_D>': 'a wooden table', '<OBJ_A>': 'a red ball', '<OBJ_B>': 'a white ball', '<OBJ_C>': 'a blue ball'}\n",
      "{'<OBJ_D>': 'grass', '<OBJ_A>': 'a yellow ball', '<OBJ_B>': 'a white ball', '<OBJ_C>': 'a pink ball'}\n",
      "{'<OBJ_D>': 'grass', '<OBJ_A>': 'a red ball', '<OBJ_B>': 'a green ball', '<OBJ_C>': 'a yellow ball'}\n",
      "{'<OBJ_D>': 'grass', '<OBJ_A>': 'a pink ball', '<OBJ_B>': 'a white ball', '<OBJ_C>': 'a green ball'}\n",
      "{'<OBJ_D>': 'a wooden table', '<OBJ_A>': 'a yellow ball', '<OBJ_B>': 'a green ball', '<OBJ_C>': 'a blue ball'}\n",
      "{'<OBJ_D>': 'a wooden table', '<OBJ_A>': 'a green ball', '<OBJ_B>': 'a red ball', '<OBJ_C>': 'a white ball'}\n",
      "{'<OBJ_D>': 'a wooden table', '<OBJ_A>': 'a yellow ball', '<OBJ_B>': 'a green ball', '<OBJ_C>': 'a red ball'}\n",
      "{'<OBJ_D>': 'grass', '<OBJ_A>': 'a green ball', '<OBJ_B>': 'a red ball', '<OBJ_C>': 'a blue ball'}\n",
      "{'<OBJ_D>': 'grass', '<OBJ_A>': 'a pink ball', '<OBJ_B>': 'a yellow ball', '<OBJ_C>': 'a white ball'}\n",
      "{'<OBJ_D>': 'a wooden table', '<OBJ_A>': 'a pink ball', '<OBJ_B>': 'a white ball', '<OBJ_C>': 'a green ball'}\n"
     ]
    }
   ],
   "source": [
    "# setting one version two: colored balls\n",
    "objects = [\"a {color} ball\", \"a {color} ball\", \"a {color} ball\"]\n",
    "object_colors = [\"red\", \"blue\", \"green\", \"pink\", \"white\", \"yellow\"]\n",
    "backgrounds = [\"a wooden table\", \"grass\"]\n",
    "\n",
    "retspecs = []\n",
    "\n",
    "# iterate through possible permutations\n",
    "specs = []\n",
    "for bgr in backgrounds:\n",
    "    spec = {\"<OBJ_D>\": bgr}\n",
    "    for objperm in itertools.permutations(objects, 3):\n",
    "        # print(objperm)\n",
    "        for colorperm in itertools.permutations(object_colors, 3):\n",
    "            for posname, obj, color in zip([\"<OBJ_A>\", \"<OBJ_B>\", \"<OBJ_C>\"], objperm, colorperm):\n",
    "                spec[posname] = obj.format(color=color)\n",
    "            specs.append(deepcopy(spec))\n",
    "            \n",
    "print(len(specs))\n",
    "random.shuffle(specs)\n",
    "specs = specs[:20]\n",
    "retspecs += specs\n",
    "\n",
    "for spec in specs:\n",
    "    print(spec)\n",
    "    "
   ]
  },
  {
   "cell_type": "code",
   "execution_count": 30,
   "id": "c18cb385",
   "metadata": {},
   "outputs": [
    {
     "data": {
      "image/png": "[encoded data removed]",
      "text/plain": [
       "<PIL.Image.Image image mode=RGB size=512x512>"
      ]
     },
     "metadata": {},
     "output_type": "display_data"
    },
    {
     "name": "stdout",
     "output_type": "stream",
     "text": [
      "['a highly detailed photorealistic image of {a pink ball:7924463}, {a yellow ball:8606816} and {a white ball:8600493} on {a wooden table:15835924}.']\n",
      "{15835924: {'caption': 'a highly detailed photorealistic image of a wooden table'}, 8600493: {'caption': 'a highly detailed photorealistic image of a white ball'}, 8606816: {'caption': 'a highly detailed photorealistic image of a yellow ball'}, 7924463: {'caption': 'a highly detailed photorealistic image of a pink ball'}}\n"
     ]
    },
    {
     "data": {
      "image/png": "[encoded data removed]",
      "text/plain": [
       "<PIL.Image.Image image mode=RGB size=512x512>"
      ]
     },
     "metadata": {},
     "output_type": "display_data"
    },
    {
     "name": "stdout",
     "output_type": "stream",
     "text": [
      "['a highly detailed photorealistic image of {a red ball:7924463}, {a white ball:8606816} and {a pink ball:8600493} on {grass:15835924}.']\n",
      "{15835924: {'caption': 'a highly detailed photorealistic image of grass'}, 8600493: {'caption': 'a highly detailed photorealistic image of a pink ball'}, 8606816: {'caption': 'a highly detailed photorealistic image of a white ball'}, 7924463: {'caption': 'a highly detailed photorealistic image of a red ball'}}\n"
     ]
    },
    {
     "data": {
      "image/png": "[encoded data removed]",
      "text/plain": [
       "<PIL.Image.Image image mode=RGB size=512x512>"
      ]
     },
     "metadata": {},
     "output_type": "display_data"
    },
    {
     "name": "stdout",
     "output_type": "stream",
     "text": [
      "['a highly detailed photorealistic image of {a pink ball:7924463}, {a blue ball:8606816} and {a white ball:8600493} on {a wooden table:15835924}.']\n",
      "{15835924: {'caption': 'a highly detailed photorealistic image of a wooden table'}, 8600493: {'caption': 'a highly detailed photorealistic image of a white ball'}, 8606816: {'caption': 'a highly detailed photorealistic image of a blue ball'}, 7924463: {'caption': 'a highly detailed photorealistic image of a pink ball'}}\n"
     ]
    },
    {
     "data": {
      "image/png": "[encoded data removed]",
      "text/plain": [
       "<PIL.Image.Image image mode=RGB size=512x512>"
      ]
     },
     "metadata": {},
     "output_type": "display_data"
    },
    {
     "name": "stdout",
     "output_type": "stream",
     "text": [
      "['a highly detailed photorealistic image of {a pink ball:7924463}, {a red ball:8606816} and {a white ball:8600493} on {grass:15835924}.']\n",
      "{15835924: {'caption': 'a highly detailed photorealistic image of grass'}, 8600493: {'caption': 'a highly detailed photorealistic image of a white ball'}, 8606816: {'caption': 'a highly detailed photorealistic image of a red ball'}, 7924463: {'caption': 'a highly detailed photorealistic image of a pink ball'}}\n"
     ]
    },
    {
     "data": {
      "image/png": "[encoded data removed]",
      "text/plain": [
       "<PIL.Image.Image image mode=RGB size=512x512>"
      ]
     },
     "metadata": {},
     "output_type": "display_data"
    },
    {
     "name": "stdout",
     "output_type": "stream",
     "text": [
      "['a highly detailed photorealistic image of {a yellow ball:7924463}, {a green ball:8606816} and {a pink ball:8600493} on {grass:15835924}.']\n",
      "{15835924: {'caption': 'a highly detailed photorealistic image of grass'}, 8600493: {'caption': 'a highly detailed photorealistic image of a pink ball'}, 8606816: {'caption': 'a highly detailed photorealistic image of a green ball'}, 7924463: {'caption': 'a highly detailed photorealistic image of a yellow ball'}}\n"
     ]
    },
    {
     "data": {
      "image/png": "[encoded data removed]",
      "text/plain": [
       "<PIL.Image.Image image mode=RGB size=512x512>"
      ]
     },
     "metadata": {},
     "output_type": "display_data"
    },
    {
     "name": "stdout",
     "output_type": "stream",
     "text": [
      "['a highly detailed photorealistic image of {a pink ball:7924463}, {a blue ball:8606816} and {a white ball:8600493} on {a wooden table:15835924}.']\n",
      "{15835924: {'caption': 'a highly detailed photorealistic image of a wooden table'}, 8600493: {'caption': 'a highly detailed photorealistic image of a white ball'}, 8606816: {'caption': 'a highly detailed photorealistic image of a blue ball'}, 7924463: {'caption': 'a highly detailed photorealistic image of a pink ball'}}\n"
     ]
    },
    {
     "data": {
      "image/png": "[encoded data removed]",
      "text/plain": [
       "<PIL.Image.Image image mode=RGB size=512x512>"
      ]
     },
     "metadata": {},
     "output_type": "display_data"
    },
    {
     "name": "stdout",
     "output_type": "stream",
     "text": [
      "['a highly detailed photorealistic image of {a yellow ball:7924463}, {a white ball:8606816} and {a red ball:8600493} on {a wooden table:15835924}.']\n",
      "{15835924: {'caption': 'a highly detailed photorealistic image of a wooden table'}, 8600493: {'caption': 'a highly detailed photorealistic image of a red ball'}, 8606816: {'caption': 'a highly detailed photorealistic image of a white ball'}, 7924463: {'caption': 'a highly detailed photorealistic image of a yellow ball'}}\n"
     ]
    },
    {
     "data": {
      "image/png": "[encoded data removed]",
      "text/plain": [
       "<PIL.Image.Image image mode=RGB size=512x512>"
      ]
     },
     "metadata": {},
     "output_type": "display_data"
    },
    {
     "name": "stdout",
     "output_type": "stream",
     "text": [
      "['a highly detailed photorealistic image of {a white ball:7924463}, {a red ball:8606816} and {a yellow ball:8600493} on {a wooden table:15835924}.']\n",
      "{15835924: {'caption': 'a highly detailed photorealistic image of a wooden table'}, 8600493: {'caption': 'a highly detailed photorealistic image of a yellow ball'}, 8606816: {'caption': 'a highly detailed photorealistic image of a red ball'}, 7924463: {'caption': 'a highly detailed photorealistic image of a white ball'}}\n"
     ]
    },
    {
     "data": {
      "image/png": "[encoded data removed]",
      "text/plain": [
       "<PIL.Image.Image image mode=RGB size=512x512>"
      ]
     },
     "metadata": {},
     "output_type": "display_data"
    },
    {
     "name": "stdout",
     "output_type": "stream",
     "text": [
      "['a highly detailed photorealistic image of {a pink ball:7924463}, {a red ball:8606816} and {a blue ball:8600493} on {a wooden table:15835924}.']\n",
      "{15835924: {'caption': 'a highly detailed photorealistic image of a wooden table'}, 8600493: {'caption': 'a highly detailed photorealistic image of a blue ball'}, 8606816: {'caption': 'a highly detailed photorealistic image of a red ball'}, 7924463: {'caption': 'a highly detailed photorealistic image of a pink ball'}}\n"
     ]
    },
    {
     "data": {
      "image/png": "[encoded data removed]",
      "text/plain": [
       "<PIL.Image.Image image mode=RGB size=512x512>"
      ]
     },
     "metadata": {},
     "output_type": "display_data"
    },
    {
     "name": "stdout",
     "output_type": "stream",
     "text": [
      "['a highly detailed photorealistic image of {a red ball:7924463}, {a blue ball:8606816} and {a pink ball:8600493} on {grass:15835924}.']\n",
      "{15835924: {'caption': 'a highly detailed photorealistic image of grass'}, 8600493: {'caption': 'a highly detailed photorealistic image of a pink ball'}, 8606816: {'caption': 'a highly detailed photorealistic image of a blue ball'}, 7924463: {'caption': 'a highly detailed photorealistic image of a red ball'}}\n"
     ]
    },
    {
     "data": {
      "image/png": "[encoded data removed]",
      "text/plain": [
       "<PIL.Image.Image image mode=RGB size=512x512>"
      ]
     },
     "metadata": {},
     "output_type": "display_data"
    },
    {
     "name": "stdout",
     "output_type": "stream",
     "text": [
      "['a highly detailed photorealistic image of {a red ball:7924463}, {a white ball:8606816} and {a blue ball:8600493} on {a wooden table:15835924}.']\n",
      "{15835924: {'caption': 'a highly detailed photorealistic image of a wooden table'}, 8600493: {'caption': 'a highly detailed photorealistic image of a blue ball'}, 8606816: {'caption': 'a highly detailed photorealistic image of a white ball'}, 7924463: {'caption': 'a highly detailed photorealistic image of a red ball'}}\n"
     ]
    },
    {
     "data": {
      "image/png": "[encoded data removed]",
      "text/plain": [
       "<PIL.Image.Image image mode=RGB size=512x512>"
      ]
     },
     "metadata": {},
     "output_type": "display_data"
    },
    {
     "name": "stdout",
     "output_type": "stream",
     "text": [
      "['a highly detailed photorealistic image of {a yellow ball:7924463}, {a white ball:8606816} and {a pink ball:8600493} on {grass:15835924}.']\n",
      "{15835924: {'caption': 'a highly detailed photorealistic image of grass'}, 8600493: {'caption': 'a highly detailed photorealistic image of a pink ball'}, 8606816: {'caption': 'a highly detailed photorealistic image of a white ball'}, 7924463: {'caption': 'a highly detailed photorealistic image of a yellow ball'}}\n"
     ]
    },
    {
     "data": {
      "image/png": "[encoded data removed]",
      "text/plain": [
       "<PIL.Image.Image image mode=RGB size=512x512>"
      ]
     },
     "metadata": {},
     "output_type": "display_data"
    },
    {
     "name": "stdout",
     "output_type": "stream",
     "text": [
      "['a highly detailed photorealistic image of {a red ball:7924463}, {a green ball:8606816} and {a yellow ball:8600493} on {grass:15835924}.']\n",
      "{15835924: {'caption': 'a highly detailed photorealistic image of grass'}, 8600493: {'caption': 'a highly detailed photorealistic image of a yellow ball'}, 8606816: {'caption': 'a highly detailed photorealistic image of a green ball'}, 7924463: {'caption': 'a highly detailed photorealistic image of a red ball'}}\n"
     ]
    },
    {
     "data": {
      "image/png": "[encoded data removed]",
      "text/plain": [
       "<PIL.Image.Image image mode=RGB size=512x512>"
      ]
     },
     "metadata": {},
     "output_type": "display_data"
    },
    {
     "name": "stdout",
     "output_type": "stream",
     "text": [
      "['a highly detailed photorealistic image of {a pink ball:7924463}, {a white ball:8606816} and {a green ball:8600493} on {grass:15835924}.']\n",
      "{15835924: {'caption': 'a highly detailed photorealistic image of grass'}, 8600493: {'caption': 'a highly detailed photorealistic image of a green ball'}, 8606816: {'caption': 'a highly detailed photorealistic image of a white ball'}, 7924463: {'caption': 'a highly detailed photorealistic image of a pink ball'}}\n"
     ]
    },
    {
     "data": {
      "image/png": "[encoded data removed]",
      "text/plain": [
       "<PIL.Image.Image image mode=RGB size=512x512>"
      ]
     },
     "metadata": {},
     "output_type": "display_data"
    },
    {
     "name": "stdout",
     "output_type": "stream",
     "text": [
      "['a highly detailed photorealistic image of {a yellow ball:7924463}, {a green ball:8606816} and {a blue ball:8600493} on {a wooden table:15835924}.']\n",
      "{15835924: {'caption': 'a highly detailed photorealistic image of a wooden table'}, 8600493: {'caption': 'a highly detailed photorealistic image of a blue ball'}, 8606816: {'caption': 'a highly detailed photorealistic image of a green ball'}, 7924463: {'caption': 'a highly detailed photorealistic image of a yellow ball'}}\n"
     ]
    },
    {
     "data": {
      "image/png": "[encoded data removed]",
      "text/plain": [
       "<PIL.Image.Image image mode=RGB size=512x512>"
      ]
     },
     "metadata": {},
     "output_type": "display_data"
    },
    {
     "name": "stdout",
     "output_type": "stream",
     "text": [
      "['a highly detailed photorealistic image of {a green ball:7924463}, {a red ball:8606816} and {a white ball:8600493} on {a wooden table:15835924}.']\n",
      "{15835924: {'caption': 'a highly detailed photorealistic image of a wooden table'}, 8600493: {'caption': 'a highly detailed photorealistic image of a white ball'}, 8606816: {'caption': 'a highly detailed photorealistic image of a red ball'}, 7924463: {'caption': 'a highly detailed photorealistic image of a green ball'}}\n"
     ]
    },
    {
     "data": {
      "image/png": "[encoded data removed]",
      "text/plain": [
       "<PIL.Image.Image image mode=RGB size=512x512>"
      ]
     },
     "metadata": {},
     "output_type": "display_data"
    },
    {
     "name": "stdout",
     "output_type": "stream",
     "text": [
      "['a highly detailed photorealistic image of {a yellow ball:7924463}, {a green ball:8606816} and {a red ball:8600493} on {a wooden table:15835924}.']\n",
      "{15835924: {'caption': 'a highly detailed photorealistic image of a wooden table'}, 8600493: {'caption': 'a highly detailed photorealistic image of a red ball'}, 8606816: {'caption': 'a highly detailed photorealistic image of a green ball'}, 7924463: {'caption': 'a highly detailed photorealistic image of a yellow ball'}}\n"
     ]
    },
    {
     "data": {
      "image/png": "[encoded data removed]",
      "text/plain": [
       "<PIL.Image.Image image mode=RGB size=512x512>"
      ]
     },
     "metadata": {},
     "output_type": "display_data"
    },
    {
     "name": "stdout",
     "output_type": "stream",
     "text": [
      "['a highly detailed photorealistic image of {a green ball:7924463}, {a red ball:8606816} and {a blue ball:8600493} on {grass:15835924}.']\n",
      "{15835924: {'caption': 'a highly detailed photorealistic image of grass'}, 8600493: {'caption': 'a highly detailed photorealistic image of a blue ball'}, 8606816: {'caption': 'a highly detailed photorealistic image of a red ball'}, 7924463: {'caption': 'a highly detailed photorealistic image of a green ball'}}\n"
     ]
    },
    {
     "data": {
      "image/png": "[encoded data removed]",
      "text/plain": [
       "<PIL.Image.Image image mode=RGB size=512x512>"
      ]
     },
     "metadata": {},
     "output_type": "display_data"
    },
    {
     "name": "stdout",
     "output_type": "stream",
     "text": [
      "['a highly detailed photorealistic image of {a pink ball:7924463}, {a yellow ball:8606816} and {a white ball:8600493} on {grass:15835924}.']\n",
      "{15835924: {'caption': 'a highly detailed photorealistic image of grass'}, 8600493: {'caption': 'a highly detailed photorealistic image of a white ball'}, 8606816: {'caption': 'a highly detailed photorealistic image of a yellow ball'}, 7924463: {'caption': 'a highly detailed photorealistic image of a pink ball'}}\n"
     ]
    },
    {
     "data": {
      "image/png": "[encoded data removed]",
      "text/plain": [
       "<PIL.Image.Image image mode=RGB size=512x512>"
      ]
     },
     "metadata": {},
     "output_type": "display_data"
    },
    {
     "name": "stdout",
     "output_type": "stream",
     "text": [
      "['a highly detailed photorealistic image of {a pink ball:7924463}, {a white ball:8606816} and {a green ball:8600493} on {a wooden table:15835924}.']\n",
      "{15835924: {'caption': 'a highly detailed photorealistic image of a wooden table'}, 8600493: {'caption': 'a highly detailed photorealistic image of a green ball'}, 8606816: {'caption': 'a highly detailed photorealistic image of a white ball'}, 7924463: {'caption': 'a highly detailed photorealistic image of a pink ball'}}\n"
     ]
    }
   ],
   "source": [
    "examples = []\n",
    "for spec in retspecs:\n",
    "    x = replace_in_captions(prototype, spec)\n",
    "    # display_example(x)\n",
    "    examples.append(x)\n",
    "\n",
    "outname = \"threecoloredballs3\"\n",
    "    \n",
    "Path(\"evaldata/\").mkdir(exist_ok=True)\n",
    "with open(f\"evaldata/{outname}.pkl\", \"wb\") as f:\n",
    "    pkl.dump(examples, f)\n",
    "\n",
    "with open(f\"evaldata/{outname}.spec.json\", \"w\") as f:\n",
    "    for i in range(len(retspecs)):\n",
    "        retspecs[i][\"i\"] = i\n",
    "    json.dump(retspecs, f, indent=4)\n",
    "    \n",
    "    \n"
   ]
  },
  {
   "cell_type": "code",
   "execution_count": null,
   "id": "adf26121",
   "metadata": {},
   "outputs": [],
   "source": []
  },
  {
   "cell_type": "code",
   "execution_count": 31,
   "id": "dd0a06b4",
   "metadata": {},
   "outputs": [
    {
     "name": "stdout",
     "output_type": "stream",
     "text": [
      "108\n",
      "{'<OBJ_D>': 'a fruit basket', '<OBJ_A>': 'a green apple', '<OBJ_B>': 'a yellow orange', '<OBJ_C>': 'a red watermelon'}\n",
      "{'<OBJ_D>': 'grass', '<OBJ_A>': 'a yellow apple', '<OBJ_B>': 'a red orange', '<OBJ_C>': 'a green watermelon'}\n",
      "{'<OBJ_D>': 'a kitchen table', '<OBJ_A>': 'a red watermelon', '<OBJ_B>': 'a green orange', '<OBJ_C>': 'a yellow apple'}\n",
      "{'<OBJ_D>': 'a fruit basket', '<OBJ_A>': 'a yellow watermelon', '<OBJ_B>': 'a red orange', '<OBJ_C>': 'a green apple'}\n",
      "{'<OBJ_D>': 'a kitchen table', '<OBJ_A>': 'a green orange', '<OBJ_B>': 'a yellow apple', '<OBJ_C>': 'a red watermelon'}\n",
      "{'<OBJ_D>': 'a kitchen table', '<OBJ_A>': 'a red apple', '<OBJ_B>': 'a yellow orange', '<OBJ_C>': 'a green watermelon'}\n",
      "{'<OBJ_D>': 'a fruit basket', '<OBJ_A>': 'a yellow apple', '<OBJ_B>': 'a red watermelon', '<OBJ_C>': 'a green orange'}\n",
      "{'<OBJ_D>': 'a fruit basket', '<OBJ_A>': 'a red watermelon', '<OBJ_B>': 'a green apple', '<OBJ_C>': 'a yellow orange'}\n",
      "{'<OBJ_D>': 'a kitchen table', '<OBJ_A>': 'a red orange', '<OBJ_B>': 'a yellow watermelon', '<OBJ_C>': 'a green apple'}\n",
      "{'<OBJ_D>': 'a fruit basket', '<OBJ_A>': 'a green watermelon', '<OBJ_B>': 'a yellow apple', '<OBJ_C>': 'a red orange'}\n",
      "111\n",
      "{'<OBJ_D>': 'a fruit basket', '<OBJ_A>': 'a red orange', '<OBJ_B>': 'a red apple', '<OBJ_C>': 'a green apple'}\n",
      "{'<OBJ_D>': 'grass', '<OBJ_A>': 'a red apple', '<OBJ_B>': 'a yellow apple', '<OBJ_C>': 'a yellow watermelon'}\n",
      "{'<OBJ_D>': 'a fruit basket', '<OBJ_A>': 'a green orange', '<OBJ_B>': 'a yellow apple', '<OBJ_C>': 'a yellow watermelon'}\n",
      "{'<OBJ_D>': 'a kitchen table', '<OBJ_A>': 'a red apple', '<OBJ_B>': 'a green watermelon', '<OBJ_C>': 'a yellow watermelon'}\n",
      "{'<OBJ_D>': 'grass', '<OBJ_A>': 'a red orange', '<OBJ_B>': 'a red apple', '<OBJ_C>': 'a yellow watermelon'}\n",
      "{'<OBJ_D>': 'grass', '<OBJ_A>': 'a red orange', '<OBJ_B>': 'a red watermelon', '<OBJ_C>': 'a green watermelon'}\n",
      "{'<OBJ_D>': 'a kitchen table', '<OBJ_A>': 'a red orange', '<OBJ_B>': 'a green orange', '<OBJ_C>': 'a yellow orange'}\n",
      "{'<OBJ_D>': 'a kitchen table', '<OBJ_A>': 'a red apple', '<OBJ_B>': 'a green apple', '<OBJ_C>': 'a yellow watermelon'}\n",
      "{'<OBJ_D>': 'a fruit basket', '<OBJ_A>': 'a green orange', '<OBJ_B>': 'a green apple', '<OBJ_C>': 'a yellow watermelon'}\n",
      "{'<OBJ_D>': 'grass', '<OBJ_A>': 'a red orange', '<OBJ_B>': 'a red apple', '<OBJ_C>': 'a red watermelon'}\n"
     ]
    }
   ],
   "source": [
    "# setting two: fruits\n",
    "objects = [\"a {color} orange\", \"a {color} apple\", \"a {color} watermelon\"]\n",
    "object_colors = [\"red\", \"green\", \"yellow\"]\n",
    "backgrounds = [\"a kitchen table\", \"grass\", \"a fruit basket\"]\n",
    "\n",
    "retspecs = []\n",
    "\n",
    "# iterate through possible permutations\n",
    "specs = []\n",
    "for bgr in backgrounds:\n",
    "    spec = {\"<OBJ_D>\": bgr}\n",
    "    for objperm in itertools.permutations(objects, 3):\n",
    "        # print(objperm)\n",
    "        for colorperm in itertools.permutations(object_colors, 3):\n",
    "            for posname, obj, color in zip([\"<OBJ_A>\", \"<OBJ_B>\", \"<OBJ_C>\"], objperm, colorperm):\n",
    "                spec[posname] = obj.format(color=color)\n",
    "            specs.append(deepcopy(spec))\n",
    "            \n",
    "print(len(specs))\n",
    "random.shuffle(specs)\n",
    "specs = specs[:10]\n",
    "retspecs += specs\n",
    "\n",
    "for spec in specs:\n",
    "    print(spec)\n",
    "    \n",
    "    \n",
    "# iterate through possible combinations\n",
    "specs = []\n",
    "for bgr in backgrounds:\n",
    "    spec = {\"<OBJ_D>\": bgr}\n",
    "    specset = set()\n",
    "    for objperm in itertools.combinations_with_replacement(objects, 3):\n",
    "        # print(objperm)\n",
    "        _spec = deepcopy(spec)\n",
    "        for colorperm in itertools.combinations_with_replacement(object_colors, 3):\n",
    "            for posname, obj, color in zip([\"<OBJ_A>\", \"<OBJ_B>\", \"<OBJ_C>\"], objperm, colorperm):\n",
    "                _spec[posname] = obj.format(color=color)\n",
    "            specset = set(_spec.values())\n",
    "            if len(specset) < len(_spec):\n",
    "                continue\n",
    "            specs.append(deepcopy(_spec))\n",
    "            \n",
    "print(len(specs))\n",
    "random.shuffle(specs)\n",
    "specs = specs[:10]\n",
    "retspecs += specs\n",
    "\n",
    "for spec in specs:\n",
    "    print(spec)\n",
    "            "
   ]
  },
  {
   "cell_type": "code",
   "execution_count": 32,
   "id": "ed20361d",
   "metadata": {},
   "outputs": [
    {
     "data": {
      "image/png": "[encoded data removed]",
      "text/plain": [
       "<PIL.Image.Image image mode=RGB size=512x512>"
      ]
     },
     "metadata": {},
     "output_type": "display_data"
    },
    {
     "name": "stdout",
     "output_type": "stream",
     "text": [
      "['a highly detailed photorealistic image of {a green apple:7924463}, {a yellow orange:8606816} and {a red watermelon:8600493} on {a fruit basket:15835924}.']\n",
      "{15835924: {'caption': 'a highly detailed photorealistic image of a fruit basket'}, 8600493: {'caption': 'a highly detailed photorealistic image of a red watermelon'}, 8606816: {'caption': 'a highly detailed photorealistic image of a yellow orange'}, 7924463: {'caption': 'a highly detailed photorealistic image of a green apple'}}\n"
     ]
    },
    {
     "data": {
      "image/png": "[encoded data removed]",
      "text/plain": [
       "<PIL.Image.Image image mode=RGB size=512x512>"
      ]
     },
     "metadata": {},
     "output_type": "display_data"
    },
    {
     "name": "stdout",
     "output_type": "stream",
     "text": [
      "['a highly detailed photorealistic image of {a yellow apple:7924463}, {a red orange:8606816} and {a green watermelon:8600493} on {grass:15835924}.']\n",
      "{15835924: {'caption': 'a highly detailed photorealistic image of grass'}, 8600493: {'caption': 'a highly detailed photorealistic image of a green watermelon'}, 8606816: {'caption': 'a highly detailed photorealistic image of a red orange'}, 7924463: {'caption': 'a highly detailed photorealistic image of a yellow apple'}}\n"
     ]
    },
    {
     "data": {
      "image/png": "[encoded data removed]",
      "text/plain": [
       "<PIL.Image.Image image mode=RGB size=512x512>"
      ]
     },
     "metadata": {},
     "output_type": "display_data"
    },
    {
     "name": "stdout",
     "output_type": "stream",
     "text": [
      "['a highly detailed photorealistic image of {a red watermelon:7924463}, {a green orange:8606816} and {a yellow apple:8600493} on {a kitchen table:15835924}.']\n",
      "{15835924: {'caption': 'a highly detailed photorealistic image of a kitchen table'}, 8600493: {'caption': 'a highly detailed photorealistic image of a yellow apple'}, 8606816: {'caption': 'a highly detailed photorealistic image of a green orange'}, 7924463: {'caption': 'a highly detailed photorealistic image of a red watermelon'}}\n"
     ]
    },
    {
     "data": {
      "image/png": "[encoded data removed]",
      "text/plain": [
       "<PIL.Image.Image image mode=RGB size=512x512>"
      ]
     },
     "metadata": {},
     "output_type": "display_data"
    },
    {
     "name": "stdout",
     "output_type": "stream",
     "text": [
      "['a highly detailed photorealistic image of {a yellow watermelon:7924463}, {a red orange:8606816} and {a green apple:8600493} on {a fruit basket:15835924}.']\n",
      "{15835924: {'caption': 'a highly detailed photorealistic image of a fruit basket'}, 8600493: {'caption': 'a highly detailed photorealistic image of a green apple'}, 8606816: {'caption': 'a highly detailed photorealistic image of a red orange'}, 7924463: {'caption': 'a highly detailed photorealistic image of a yellow watermelon'}}\n"
     ]
    },
    {
     "data": {
      "image/png": "[encoded data removed]",
      "text/plain": [
       "<PIL.Image.Image image mode=RGB size=512x512>"
      ]
     },
     "metadata": {},
     "output_type": "display_data"
    },
    {
     "name": "stdout",
     "output_type": "stream",
     "text": [
      "['a highly detailed photorealistic image of {a green orange:7924463}, {a yellow apple:8606816} and {a red watermelon:8600493} on {a kitchen table:15835924}.']\n",
      "{15835924: {'caption': 'a highly detailed photorealistic image of a kitchen table'}, 8600493: {'caption': 'a highly detailed photorealistic image of a red watermelon'}, 8606816: {'caption': 'a highly detailed photorealistic image of a yellow apple'}, 7924463: {'caption': 'a highly detailed photorealistic image of a green orange'}}\n"
     ]
    },
    {
     "data": {
      "image/png": "[encoded data removed]",
      "text/plain": [
       "<PIL.Image.Image image mode=RGB size=512x512>"
      ]
     },
     "metadata": {},
     "output_type": "display_data"
    },
    {
     "name": "stdout",
     "output_type": "stream",
     "text": [
      "['a highly detailed photorealistic image of {a red apple:7924463}, {a yellow orange:8606816} and {a green watermelon:8600493} on {a kitchen table:15835924}.']\n",
      "{15835924: {'caption': 'a highly detailed photorealistic image of a kitchen table'}, 8600493: {'caption': 'a highly detailed photorealistic image of a green watermelon'}, 8606816: {'caption': 'a highly detailed photorealistic image of a yellow orange'}, 7924463: {'caption': 'a highly detailed photorealistic image of a red apple'}}\n"
     ]
    },
    {
     "data": {
      "image/png": "[encoded data removed]",
      "text/plain": [
       "<PIL.Image.Image image mode=RGB size=512x512>"
      ]
     },
     "metadata": {},
     "output_type": "display_data"
    },
    {
     "name": "stdout",
     "output_type": "stream",
     "text": [
      "['a highly detailed photorealistic image of {a yellow apple:7924463}, {a red watermelon:8606816} and {a green orange:8600493} on {a fruit basket:15835924}.']\n",
      "{15835924: {'caption': 'a highly detailed photorealistic image of a fruit basket'}, 8600493: {'caption': 'a highly detailed photorealistic image of a green orange'}, 8606816: {'caption': 'a highly detailed photorealistic image of a red watermelon'}, 7924463: {'caption': 'a highly detailed photorealistic image of a yellow apple'}}\n"
     ]
    },
    {
     "data": {
      "image/png": "[encoded data removed]",
      "text/plain": [
       "<PIL.Image.Image image mode=RGB size=512x512>"
      ]
     },
     "metadata": {},
     "output_type": "display_data"
    },
    {
     "name": "stdout",
     "output_type": "stream",
     "text": [
      "['a highly detailed photorealistic image of {a red watermelon:7924463}, {a green apple:8606816} and {a yellow orange:8600493} on {a fruit basket:15835924}.']\n",
      "{15835924: {'caption': 'a highly detailed photorealistic image of a fruit basket'}, 8600493: {'caption': 'a highly detailed photorealistic image of a yellow orange'}, 8606816: {'caption': 'a highly detailed photorealistic image of a green apple'}, 7924463: {'caption': 'a highly detailed photorealistic image of a red watermelon'}}\n"
     ]
    },
    {
     "data": {
      "image/png": "[encoded data removed]",
      "text/plain": [
       "<PIL.Image.Image image mode=RGB size=512x512>"
      ]
     },
     "metadata": {},
     "output_type": "display_data"
    },
    {
     "name": "stdout",
     "output_type": "stream",
     "text": [
      "['a highly detailed photorealistic image of {a red orange:7924463}, {a yellow watermelon:8606816} and {a green apple:8600493} on {a kitchen table:15835924}.']\n",
      "{15835924: {'caption': 'a highly detailed photorealistic image of a kitchen table'}, 8600493: {'caption': 'a highly detailed photorealistic image of a green apple'}, 8606816: {'caption': 'a highly detailed photorealistic image of a yellow watermelon'}, 7924463: {'caption': 'a highly detailed photorealistic image of a red orange'}}\n"
     ]
    },
    {
     "data": {
      "image/png": "[encoded data removed]",
      "text/plain": [
       "<PIL.Image.Image image mode=RGB size=512x512>"
      ]
     },
     "metadata": {},
     "output_type": "display_data"
    },
    {
     "name": "stdout",
     "output_type": "stream",
     "text": [
      "['a highly detailed photorealistic image of {a green watermelon:7924463}, {a yellow apple:8606816} and {a red orange:8600493} on {a fruit basket:15835924}.']\n",
      "{15835924: {'caption': 'a highly detailed photorealistic image of a fruit basket'}, 8600493: {'caption': 'a highly detailed photorealistic image of a red orange'}, 8606816: {'caption': 'a highly detailed photorealistic image of a yellow apple'}, 7924463: {'caption': 'a highly detailed photorealistic image of a green watermelon'}}\n"
     ]
    },
    {
     "data": {
      "image/png": "[encoded data removed]",
      "text/plain": [
       "<PIL.Image.Image image mode=RGB size=512x512>"
      ]
     },
     "metadata": {},
     "output_type": "display_data"
    },
    {
     "name": "stdout",
     "output_type": "stream",
     "text": [
      "['a highly detailed photorealistic image of {a red orange:7924463}, {a red apple:8606816} and {a green apple:8600493} on {a fruit basket:15835924}.']\n",
      "{15835924: {'caption': 'a highly detailed photorealistic image of a fruit basket'}, 8600493: {'caption': 'a highly detailed photorealistic image of a green apple'}, 8606816: {'caption': 'a highly detailed photorealistic image of a red apple'}, 7924463: {'caption': 'a highly detailed photorealistic image of a red orange'}}\n"
     ]
    },
    {
     "data": {
      "image/png": "[encoded data removed]",
      "text/plain": [
       "<PIL.Image.Image image mode=RGB size=512x512>"
      ]
     },
     "metadata": {},
     "output_type": "display_data"
    },
    {
     "name": "stdout",
     "output_type": "stream",
     "text": [
      "['a highly detailed photorealistic image of {a red apple:7924463}, {a yellow apple:8606816} and {a yellow watermelon:8600493} on {grass:15835924}.']\n",
      "{15835924: {'caption': 'a highly detailed photorealistic image of grass'}, 8600493: {'caption': 'a highly detailed photorealistic image of a yellow watermelon'}, 8606816: {'caption': 'a highly detailed photorealistic image of a yellow apple'}, 7924463: {'caption': 'a highly detailed photorealistic image of a red apple'}}\n"
     ]
    },
    {
     "data": {
      "image/png": "[encoded data removed]",
      "text/plain": [
       "<PIL.Image.Image image mode=RGB size=512x512>"
      ]
     },
     "metadata": {},
     "output_type": "display_data"
    },
    {
     "name": "stdout",
     "output_type": "stream",
     "text": [
      "['a highly detailed photorealistic image of {a green orange:7924463}, {a yellow apple:8606816} and {a yellow watermelon:8600493} on {a fruit basket:15835924}.']\n",
      "{15835924: {'caption': 'a highly detailed photorealistic image of a fruit basket'}, 8600493: {'caption': 'a highly detailed photorealistic image of a yellow watermelon'}, 8606816: {'caption': 'a highly detailed photorealistic image of a yellow apple'}, 7924463: {'caption': 'a highly detailed photorealistic image of a green orange'}}\n"
     ]
    },
    {
     "data": {
      "image/png": "[encoded data removed]",
      "text/plain": [
       "<PIL.Image.Image image mode=RGB size=512x512>"
      ]
     },
     "metadata": {},
     "output_type": "display_data"
    },
    {
     "name": "stdout",
     "output_type": "stream",
     "text": [
      "['a highly detailed photorealistic image of {a red apple:7924463}, {a green watermelon:8606816} and {a yellow watermelon:8600493} on {a kitchen table:15835924}.']\n",
      "{15835924: {'caption': 'a highly detailed photorealistic image of a kitchen table'}, 8600493: {'caption': 'a highly detailed photorealistic image of a yellow watermelon'}, 8606816: {'caption': 'a highly detailed photorealistic image of a green watermelon'}, 7924463: {'caption': 'a highly detailed photorealistic image of a red apple'}}\n"
     ]
    },
    {
     "data": {
      "image/png": "[encoded data removed]",
      "text/plain": [
       "<PIL.Image.Image image mode=RGB size=512x512>"
      ]
     },
     "metadata": {},
     "output_type": "display_data"
    },
    {
     "name": "stdout",
     "output_type": "stream",
     "text": [
      "['a highly detailed photorealistic image of {a red orange:7924463}, {a red apple:8606816} and {a yellow watermelon:8600493} on {grass:15835924}.']\n",
      "{15835924: {'caption': 'a highly detailed photorealistic image of grass'}, 8600493: {'caption': 'a highly detailed photorealistic image of a yellow watermelon'}, 8606816: {'caption': 'a highly detailed photorealistic image of a red apple'}, 7924463: {'caption': 'a highly detailed photorealistic image of a red orange'}}\n"
     ]
    },
    {
     "data": {
      "image/png": "[encoded data removed]",
      "text/plain": [
       "<PIL.Image.Image image mode=RGB size=512x512>"
      ]
     },
     "metadata": {},
     "output_type": "display_data"
    },
    {
     "name": "stdout",
     "output_type": "stream",
     "text": [
      "['a highly detailed photorealistic image of {a red orange:7924463}, {a red watermelon:8606816} and {a green watermelon:8600493} on {grass:15835924}.']\n",
      "{15835924: {'caption': 'a highly detailed photorealistic image of grass'}, 8600493: {'caption': 'a highly detailed photorealistic image of a green watermelon'}, 8606816: {'caption': 'a highly detailed photorealistic image of a red watermelon'}, 7924463: {'caption': 'a highly detailed photorealistic image of a red orange'}}\n"
     ]
    },
    {
     "data": {
      "image/png": "[encoded data removed]",
      "text/plain": [
       "<PIL.Image.Image image mode=RGB size=512x512>"
      ]
     },
     "metadata": {},
     "output_type": "display_data"
    },
    {
     "name": "stdout",
     "output_type": "stream",
     "text": [
      "['a highly detailed photorealistic image of {a red orange:7924463}, {a green orange:8606816} and {a yellow orange:8600493} on {a kitchen table:15835924}.']\n",
      "{15835924: {'caption': 'a highly detailed photorealistic image of a kitchen table'}, 8600493: {'caption': 'a highly detailed photorealistic image of a yellow orange'}, 8606816: {'caption': 'a highly detailed photorealistic image of a green orange'}, 7924463: {'caption': 'a highly detailed photorealistic image of a red orange'}}\n"
     ]
    },
    {
     "data": {
      "image/png": "[encoded data removed]",
      "text/plain": [
       "<PIL.Image.Image image mode=RGB size=512x512>"
      ]
     },
     "metadata": {},
     "output_type": "display_data"
    },
    {
     "name": "stdout",
     "output_type": "stream",
     "text": [
      "['a highly detailed photorealistic image of {a red apple:7924463}, {a green apple:8606816} and {a yellow watermelon:8600493} on {a kitchen table:15835924}.']\n",
      "{15835924: {'caption': 'a highly detailed photorealistic image of a kitchen table'}, 8600493: {'caption': 'a highly detailed photorealistic image of a yellow watermelon'}, 8606816: {'caption': 'a highly detailed photorealistic image of a green apple'}, 7924463: {'caption': 'a highly detailed photorealistic image of a red apple'}}\n"
     ]
    },
    {
     "data": {
      "image/png": "[encoded data removed]",
      "text/plain": [
       "<PIL.Image.Image image mode=RGB size=512x512>"
      ]
     },
     "metadata": {},
     "output_type": "display_data"
    },
    {
     "name": "stdout",
     "output_type": "stream",
     "text": [
      "['a highly detailed photorealistic image of {a green orange:7924463}, {a green apple:8606816} and {a yellow watermelon:8600493} on {a fruit basket:15835924}.']\n",
      "{15835924: {'caption': 'a highly detailed photorealistic image of a fruit basket'}, 8600493: {'caption': 'a highly detailed photorealistic image of a yellow watermelon'}, 8606816: {'caption': 'a highly detailed photorealistic image of a green apple'}, 7924463: {'caption': 'a highly detailed photorealistic image of a green orange'}}\n"
     ]
    },
    {
     "data": {
      "image/png": "[encoded data removed]",
      "text/plain": [
       "<PIL.Image.Image image mode=RGB size=512x512>"
      ]
     },
     "metadata": {},
     "output_type": "display_data"
    },
    {
     "name": "stdout",
     "output_type": "stream",
     "text": [
      "['a highly detailed photorealistic image of {a red orange:7924463}, {a red apple:8606816} and {a red watermelon:8600493} on {grass:15835924}.']\n",
      "{15835924: {'caption': 'a highly detailed photorealistic image of grass'}, 8600493: {'caption': 'a highly detailed photorealistic image of a red watermelon'}, 8606816: {'caption': 'a highly detailed photorealistic image of a red apple'}, 7924463: {'caption': 'a highly detailed photorealistic image of a red orange'}}\n"
     ]
    }
   ],
   "source": [
    "examples = []\n",
    "for spec in retspecs:\n",
    "    x = replace_in_captions(prototype, spec)\n",
    "    # display_example(x)\n",
    "    examples.append(x)\n",
    "\n",
    "outname = \"threefruits3\"\n",
    "    \n",
    "Path(\"evaldata/\").mkdir(exist_ok=True)\n",
    "with open(f\"evaldata/{outname}.pkl\", \"wb\") as f:\n",
    "    pkl.dump(examples, f)\n",
    "\n",
    "with open(f\"evaldata/{outname}.spec.json\", \"w\") as f:\n",
    "    for i in range(len(retspecs)):\n",
    "        retspecs[i][\"i\"] = i\n",
    "    json.dump(retspecs, f, indent=4)\n",
    "    \n",
    "    \n"
   ]
  },
  {
   "cell_type": "code",
   "execution_count": null,
   "id": "0aff6c54",
   "metadata": {},
   "outputs": [],
   "source": []
  },
  {
   "cell_type": "code",
   "execution_count": null,
   "id": "dfb6f5b1",
   "metadata": {},
   "outputs": [],
   "source": []
  },
  {
   "cell_type": "code",
   "execution_count": 33,
   "id": "e7e1b915",
   "metadata": {},
   "outputs": [
    {
     "name": "stdout",
     "output_type": "stream",
     "text": [
      "1008\n",
      "{'<OBJ_D>': 'grass', '<OBJ_A>': 'a peach', '<OBJ_B>': 'a watermelon', '<OBJ_C>': 'a grape'}\n",
      "{'<OBJ_D>': 'a kitchen table', '<OBJ_A>': 'a green apple', '<OBJ_B>': 'a chestnut', '<OBJ_C>': 'a watermelon'}\n",
      "{'<OBJ_D>': 'a kitchen table', '<OBJ_A>': 'an orange', '<OBJ_B>': 'a kiwi', '<OBJ_C>': 'a walnut'}\n",
      "{'<OBJ_D>': 'a kitchen table', '<OBJ_A>': 'a green apple', '<OBJ_B>': 'an orange', '<OBJ_C>': 'a grape'}\n",
      "{'<OBJ_D>': 'grass', '<OBJ_A>': 'a watermelon', '<OBJ_B>': 'a grape', '<OBJ_C>': 'a kiwi'}\n",
      "{'<OBJ_D>': 'a kitchen table', '<OBJ_A>': 'a red apple', '<OBJ_B>': 'a green apple', '<OBJ_C>': 'a chestnut'}\n",
      "{'<OBJ_D>': 'grass', '<OBJ_A>': 'a kiwi', '<OBJ_B>': 'a peach', '<OBJ_C>': 'a walnut'}\n",
      "{'<OBJ_D>': 'grass', '<OBJ_A>': 'a peach', '<OBJ_B>': 'a kiwi', '<OBJ_C>': 'a chestnut'}\n",
      "{'<OBJ_D>': 'a kitchen table', '<OBJ_A>': 'a grape', '<OBJ_B>': 'a walnut', '<OBJ_C>': 'a peach'}\n",
      "{'<OBJ_D>': 'a kitchen table', '<OBJ_A>': 'a red apple', '<OBJ_B>': 'a chestnut', '<OBJ_C>': 'a green apple'}\n",
      "{'<OBJ_D>': 'a kitchen table', '<OBJ_A>': 'a chestnut', '<OBJ_B>': 'a watermelon', '<OBJ_C>': 'an orange'}\n",
      "{'<OBJ_D>': 'a kitchen table', '<OBJ_A>': 'a kiwi', '<OBJ_B>': 'an orange', '<OBJ_C>': 'a green apple'}\n",
      "{'<OBJ_D>': 'grass', '<OBJ_A>': 'a red apple', '<OBJ_B>': 'a walnut', '<OBJ_C>': 'a chestnut'}\n",
      "{'<OBJ_D>': 'a kitchen table', '<OBJ_A>': 'a grape', '<OBJ_B>': 'a watermelon', '<OBJ_C>': 'a green apple'}\n",
      "{'<OBJ_D>': 'grass', '<OBJ_A>': 'an orange', '<OBJ_B>': 'a kiwi', '<OBJ_C>': 'a chestnut'}\n",
      "{'<OBJ_D>': 'grass', '<OBJ_A>': 'a green apple', '<OBJ_B>': 'an orange', '<OBJ_C>': 'a grape'}\n",
      "{'<OBJ_D>': 'a kitchen table', '<OBJ_A>': 'a walnut', '<OBJ_B>': 'an orange', '<OBJ_C>': 'a grape'}\n",
      "{'<OBJ_D>': 'a kitchen table', '<OBJ_A>': 'a grape', '<OBJ_B>': 'a watermelon', '<OBJ_C>': 'a kiwi'}\n",
      "{'<OBJ_D>': 'grass', '<OBJ_A>': 'a chestnut', '<OBJ_B>': 'a kiwi', '<OBJ_C>': 'a walnut'}\n",
      "{'<OBJ_D>': 'grass', '<OBJ_A>': 'a watermelon', '<OBJ_B>': 'a red apple', '<OBJ_C>': 'an orange'}\n"
     ]
    }
   ],
   "source": [
    "# setting two, version 2: simple fruits\n",
    "objects = [\"an orange\", \"a red apple\", \"a green apple\", \"a watermelon\", \"a kiwi\", \"a chestnut\", \"a walnut\", \"a peach\", \"a grape\"]\n",
    "backgrounds = [\"a kitchen table\", \"grass\"]\n",
    "\n",
    "retspecs = []\n",
    "\n",
    "# iterate through possible permutations\n",
    "specs = []\n",
    "for bgr in backgrounds:\n",
    "    spec = {\"<OBJ_D>\": bgr}\n",
    "    for objperm in itertools.permutations(objects, 3):\n",
    "        for posname, obj in zip([\"<OBJ_A>\", \"<OBJ_B>\", \"<OBJ_C>\"], objperm):\n",
    "            spec[posname] = obj.format(color=color)\n",
    "        specs.append(deepcopy(spec))\n",
    "            \n",
    "print(len(specs))\n",
    "random.shuffle(specs)\n",
    "specs = specs[:20]\n",
    "retspecs += specs\n",
    "\n",
    "for spec in specs:\n",
    "    print(spec)\n",
    "    "
   ]
  },
  {
   "cell_type": "code",
   "execution_count": 34,
   "id": "5d561226",
   "metadata": {},
   "outputs": [],
   "source": [
    "examples = []\n",
    "for spec in retspecs:\n",
    "    x = replace_in_captions(prototype, spec)\n",
    "    # display_example(x)\n",
    "    examples.append(x)\n",
    "\n",
    "outname = \"threesimplefruits3\"\n",
    "    \n",
    "Path(\"evaldata/\").mkdir(exist_ok=True)\n",
    "with open(f\"evaldata/{outname}.pkl\", \"wb\") as f:\n",
    "    pkl.dump(examples, f)\n",
    "\n",
    "with open(f\"evaldata/{outname}.spec.json\", \"w\") as f:\n",
    "    for i in range(len(retspecs)):\n",
    "        retspecs[i][\"i\"] = i\n",
    "    json.dump(retspecs, f, indent=4)\n",
    "    \n",
    "    \n"
   ]
  },
  {
   "cell_type": "code",
   "execution_count": null,
   "id": "98d718eb",
   "metadata": {},
   "outputs": [],
   "source": []
  },
  {
   "cell_type": "code",
   "execution_count": 39,
   "id": "216fab07",
   "metadata": {},
   "outputs": [
    {
     "name": "stdout",
     "output_type": "stream",
     "text": [
      "210\n",
      "{'<OBJ_D>': 'a wooden table', '<OBJ_A>': 'a yellow smiley face pin', '<OBJ_B>': 'a dandelion', '<OBJ_C>': 'a lemon'}\n",
      "{'<OBJ_D>': 'a wooden table', '<OBJ_A>': 'a yellow pancake', '<OBJ_B>': 'a gold coin', '<OBJ_C>': 'a yellow smiley face pin'}\n",
      "{'<OBJ_D>': 'a wooden table', '<OBJ_A>': 'a gold coin', '<OBJ_B>': 'a yellow pancake', '<OBJ_C>': 'cheese wheel'}\n",
      "{'<OBJ_D>': 'a wooden table', '<OBJ_A>': 'a yellow pancake', '<OBJ_B>': 'a slice of banana', '<OBJ_C>': 'a yellow smiley face pin'}\n",
      "{'<OBJ_D>': 'a wooden table', '<OBJ_A>': 'a dandelion', '<OBJ_B>': 'cheese wheel', '<OBJ_C>': 'a gold coin'}\n",
      "{'<OBJ_D>': 'a wooden table', '<OBJ_A>': 'cheese wheel', '<OBJ_B>': 'a lemon', '<OBJ_C>': 'a slice of banana'}\n",
      "{'<OBJ_D>': 'a wooden table', '<OBJ_A>': 'a dandelion', '<OBJ_B>': 'a yellow smiley face pin', '<OBJ_C>': 'a gold coin'}\n",
      "{'<OBJ_D>': 'a wooden table', '<OBJ_A>': 'cheese wheel', '<OBJ_B>': 'a yellow pancake', '<OBJ_C>': 'a lemon'}\n",
      "{'<OBJ_D>': 'a wooden table', '<OBJ_A>': 'a dandelion', '<OBJ_B>': 'a lemon', '<OBJ_C>': 'a yellow smiley face pin'}\n",
      "{'<OBJ_D>': 'a wooden table', '<OBJ_A>': 'cheese wheel', '<OBJ_B>': 'a yellow pancake', '<OBJ_C>': 'a dandelion'}\n",
      "{'<OBJ_D>': 'a wooden table', '<OBJ_A>': 'a gold coin', '<OBJ_B>': 'a slice of banana', '<OBJ_C>': 'a dandelion'}\n",
      "{'<OBJ_D>': 'a wooden table', '<OBJ_A>': 'a gold coin', '<OBJ_B>': 'cheese wheel', '<OBJ_C>': 'a slice of banana'}\n",
      "{'<OBJ_D>': 'a wooden table', '<OBJ_A>': 'a yellow smiley face pin', '<OBJ_B>': 'a lemon', '<OBJ_C>': 'a yellow pancake'}\n",
      "{'<OBJ_D>': 'a wooden table', '<OBJ_A>': 'a lemon', '<OBJ_B>': 'a gold coin', '<OBJ_C>': 'a yellow smiley face pin'}\n",
      "{'<OBJ_D>': 'a wooden table', '<OBJ_A>': 'a yellow pancake', '<OBJ_B>': 'a lemon', '<OBJ_C>': 'cheese wheel'}\n",
      "{'<OBJ_D>': 'a wooden table', '<OBJ_A>': 'a dandelion', '<OBJ_B>': 'a slice of banana', '<OBJ_C>': 'a yellow smiley face pin'}\n",
      "{'<OBJ_D>': 'a wooden table', '<OBJ_A>': 'cheese wheel', '<OBJ_B>': 'a gold coin', '<OBJ_C>': 'a yellow smiley face pin'}\n",
      "{'<OBJ_D>': 'a wooden table', '<OBJ_A>': 'a yellow smiley face pin', '<OBJ_B>': 'cheese wheel', '<OBJ_C>': 'a dandelion'}\n",
      "{'<OBJ_D>': 'a wooden table', '<OBJ_A>': 'a dandelion', '<OBJ_B>': 'a slice of banana', '<OBJ_C>': 'a yellow pancake'}\n",
      "{'<OBJ_D>': 'a wooden table', '<OBJ_A>': 'a slice of banana', '<OBJ_B>': 'a dandelion', '<OBJ_C>': 'a lemon'}\n"
     ]
    }
   ],
   "source": [
    "# setting two, version 2: all yellow\n",
    "objects = [\"a lemon\", \"a gold coin\", \"cheese wheel\", \"a yellow smiley face pin\", \"a yellow pancake\", \"a dandelion\", \"a slice of banana\"]\n",
    "backgrounds = [\"a wooden table\"]\n",
    "\n",
    "retspecs = []\n",
    "\n",
    "# iterate through possible permutations\n",
    "specs = []\n",
    "for bgr in backgrounds:\n",
    "    spec = {\"<OBJ_D>\": bgr}\n",
    "    for objperm in itertools.permutations(objects, 3):\n",
    "        for posname, obj in zip([\"<OBJ_A>\", \"<OBJ_B>\", \"<OBJ_C>\"], objperm):\n",
    "            spec[posname] = obj.format(color=color)\n",
    "        specs.append(deepcopy(spec))\n",
    "            \n",
    "print(len(specs))\n",
    "random.shuffle(specs)\n",
    "specs = specs[:20]\n",
    "retspecs += specs\n",
    "\n",
    "for spec in specs:\n",
    "    print(spec)\n",
    "    "
   ]
  },
  {
   "cell_type": "code",
   "execution_count": 40,
   "id": "71e6b0be",
   "metadata": {
    "scrolled": true
   },
   "outputs": [],
   "source": [
    "examples = []\n",
    "for spec in retspecs:\n",
    "    x = replace_in_captions(prototype, spec)\n",
    "    # display_example(x)\n",
    "    examples.append(x)\n",
    "\n",
    "outname = \"threeyellow3\"\n",
    "    \n",
    "Path(\"evaldata/\").mkdir(exist_ok=True)\n",
    "with open(f\"evaldata/{outname}.pkl\", \"wb\") as f:\n",
    "    pkl.dump(examples, f)\n",
    "\n",
    "with open(f\"evaldata/{outname}.spec.json\", \"w\") as f:\n",
    "    for i in range(len(retspecs)):\n",
    "        retspecs[i][\"i\"] = i\n",
    "    json.dump(retspecs, f, indent=4)\n",
    "    \n",
    "    \n"
   ]
  },
  {
   "cell_type": "code",
   "execution_count": null,
   "id": "f71d8465",
   "metadata": {},
   "outputs": [],
   "source": []
  },
  {
   "cell_type": "code",
   "execution_count": 45,
   "id": "0f33a50b",
   "metadata": {},
   "outputs": [
    {
     "name": "stdout",
     "output_type": "stream",
     "text": [
      "24\n",
      "{'<OBJ_A>': 'an apricot', '<OBJ_B>': 'a pumpkin', '<OBJ_C>': 'an orange', '<OBJ_D>': 'a wooden table'}\n",
      "{'<OBJ_D>': 'a wooden table', '<OBJ_A>': 'a pumpkin', '<OBJ_B>': 'an apricot', '<OBJ_C>': 'an orange'}\n",
      "{'<OBJ_D>': 'a wooden table', '<OBJ_A>': 'a persimmon', '<OBJ_B>': 'an orange', '<OBJ_C>': 'an apricot'}\n",
      "{'<OBJ_D>': 'a wooden table', '<OBJ_A>': 'an apricot', '<OBJ_B>': 'a persimmon', '<OBJ_C>': 'an orange'}\n",
      "{'<OBJ_D>': 'a wooden table', '<OBJ_A>': 'a pumpkin', '<OBJ_B>': 'an orange', '<OBJ_C>': 'an apricot'}\n",
      "{'<OBJ_D>': 'a wooden table', '<OBJ_A>': 'an orange', '<OBJ_B>': 'a pumpkin', '<OBJ_C>': 'a persimmon'}\n",
      "{'<OBJ_D>': 'a wooden table', '<OBJ_A>': 'a persimmon', '<OBJ_B>': 'a pumpkin', '<OBJ_C>': 'an orange'}\n",
      "{'<OBJ_D>': 'a wooden table', '<OBJ_A>': 'an apricot', '<OBJ_B>': 'a pumpkin', '<OBJ_C>': 'a persimmon'}\n",
      "{'<OBJ_D>': 'a wooden table', '<OBJ_A>': 'an orange', '<OBJ_B>': 'a persimmon', '<OBJ_C>': 'an apricot'}\n",
      "{'<OBJ_D>': 'a wooden table', '<OBJ_A>': 'a pumpkin', '<OBJ_B>': 'an orange', '<OBJ_C>': 'a persimmon'}\n",
      "{'<OBJ_D>': 'a wooden table', '<OBJ_A>': 'a persimmon', '<OBJ_B>': 'an orange', '<OBJ_C>': 'a pumpkin'}\n",
      "{'<OBJ_D>': 'a wooden table', '<OBJ_A>': 'an apricot', '<OBJ_B>': 'an orange', '<OBJ_C>': 'a pumpkin'}\n",
      "{'<OBJ_D>': 'a wooden table', '<OBJ_A>': 'an apricot', '<OBJ_B>': 'an orange', '<OBJ_C>': 'a persimmon'}\n",
      "{'<OBJ_D>': 'a wooden table', '<OBJ_A>': 'a persimmon', '<OBJ_B>': 'a pumpkin', '<OBJ_C>': 'an apricot'}\n",
      "{'<OBJ_D>': 'a wooden table', '<OBJ_A>': 'an orange', '<OBJ_B>': 'a persimmon', '<OBJ_C>': 'a pumpkin'}\n",
      "{'<OBJ_D>': 'a wooden table', '<OBJ_A>': 'an orange', '<OBJ_B>': 'an apricot', '<OBJ_C>': 'a persimmon'}\n",
      "{'<OBJ_D>': 'a wooden table', '<OBJ_A>': 'a pumpkin', '<OBJ_B>': 'a persimmon', '<OBJ_C>': 'an apricot'}\n",
      "{'<OBJ_D>': 'a wooden table', '<OBJ_A>': 'an orange', '<OBJ_B>': 'a pumpkin', '<OBJ_C>': 'an apricot'}\n",
      "{'<OBJ_D>': 'a wooden table', '<OBJ_A>': 'a persimmon', '<OBJ_B>': 'an apricot', '<OBJ_C>': 'a pumpkin'}\n",
      "{'<OBJ_D>': 'a wooden table', '<OBJ_A>': 'an apricot', '<OBJ_B>': 'a persimmon', '<OBJ_C>': 'a pumpkin'}\n"
     ]
    }
   ],
   "source": [
    "# setting two, version 2: all oranges\n",
    "objects = [\"an orange\", \"a pumpkin\", \"an apricot\", \"a persimmon\", \"donald trump's face\"]\n",
    "backgrounds = [\"a wooden table\"]\n",
    "\n",
    "retspecs = []\n",
    "retspecs.append({\n",
    "    \"<OBJ_A>\": \"an apricot\",\n",
    "    \"<OBJ_B>\": \"a pumpkin\",\n",
    "    \"<OBJ_C>\": \"an orange\",\n",
    "    \"<OBJ_D>\": \"a wooden table\"\n",
    "})\n",
    "\n",
    "# iterate through possible permutations\n",
    "specs = []\n",
    "for bgr in backgrounds:\n",
    "    spec = {\"<OBJ_D>\": bgr}\n",
    "    for objperm in itertools.permutations(objects, 3):\n",
    "        for posname, obj in zip([\"<OBJ_A>\", \"<OBJ_B>\", \"<OBJ_C>\"], objperm):\n",
    "            spec[posname] = obj.format(color=color)\n",
    "        if objects[-1] in spec.values():\n",
    "            if random.random() < 1.1: #0.9:\n",
    "                continue\n",
    "        if objects[-1] == spec[\"<OBJ_A>\"] or objects[-1] == spec[\"<OBJ_C>\"]:\n",
    "            continue\n",
    "        specs.append(deepcopy(spec))\n",
    "            \n",
    "print(len(specs))\n",
    "random.shuffle(specs)\n",
    "specs = specs[:19]\n",
    "retspecs += specs\n",
    "\n",
    "for spec in retspecs:\n",
    "    print(spec)\n",
    "    "
   ]
  },
  {
   "cell_type": "code",
   "execution_count": 46,
   "id": "7013dd7b",
   "metadata": {},
   "outputs": [],
   "source": [
    "examples = []\n",
    "for spec in retspecs:\n",
    "    x = replace_in_captions(prototype, spec)\n",
    "    # display_example(x)\n",
    "    examples.append(x)\n",
    "\n",
    "outname = \"threeorange3\"\n",
    "    \n",
    "Path(\"evaldata/\").mkdir(exist_ok=True)\n",
    "with open(f\"evaldata/{outname}.pkl\", \"wb\") as f:\n",
    "    pkl.dump(examples, f)\n",
    "\n",
    "with open(f\"evaldata/{outname}.spec.json\", \"w\") as f:\n",
    "    for i in range(len(retspecs)):\n",
    "        retspecs[i][\"i\"] = i\n",
    "    json.dump(retspecs, f, indent=4)\n",
    "    \n",
    "    \n"
   ]
  },
  {
   "cell_type": "code",
   "execution_count": null,
   "id": "8adbe69b",
   "metadata": {},
   "outputs": [],
   "source": []
  },
  {
   "cell_type": "code",
   "execution_count": null,
   "id": "bd5fbb54",
   "metadata": {},
   "outputs": [],
   "source": []
  },
  {
   "cell_type": "code",
   "execution_count": 52,
   "id": "032cdd90",
   "metadata": {},
   "outputs": [
    {
     "name": "stderr",
     "output_type": "stream",
     "text": [
      "Unknown image resource 1092\n"
     ]
    },
    {
     "name": "stdout",
     "output_type": "stream",
     "text": [
      "a photo of <OBJ_E>\n",
      "(512, 512, 3) 255\n"
     ]
    },
    {
     "data": {
      "image/png": "[encoded data removed]",
      "text/plain": [
       "<PIL.Image.Image image mode=RGB size=512x512>"
      ]
     },
     "metadata": {},
     "output_type": "display_data"
    },
    {
     "name": "stdout",
     "output_type": "stream",
     "text": [
      "a photo of <OBJ_A>\n",
      "(512, 512, 3) 255\n"
     ]
    },
    {
     "data": {
      "image/png": "[encoded data removed]",
      "text/plain": [
       "<PIL.Image.Image image mode=RGB size=512x512>"
      ]
     },
     "metadata": {},
     "output_type": "display_data"
    },
    {
     "name": "stdout",
     "output_type": "stream",
     "text": [
      "a photo of <OBJ_B>\n",
      "(512, 512, 3) 255\n"
     ]
    },
    {
     "data": {
      "image/png": "[encoded data removed]",
      "text/plain": [
       "<PIL.Image.Image image mode=RGB size=512x512>"
      ]
     },
     "metadata": {},
     "output_type": "display_data"
    },
    {
     "name": "stdout",
     "output_type": "stream",
     "text": [
      "a photo of <OBJ_C>\n",
      "(512, 512, 3) 255\n"
     ]
    },
    {
     "data": {
      "image/png": "[encoded data removed]",
      "text/plain": [
       "<PIL.Image.Image image mode=RGB size=512x512>"
      ]
     },
     "metadata": {},
     "output_type": "display_data"
    },
    {
     "name": "stdout",
     "output_type": "stream",
     "text": [
      "a photo of <OBJ_D>\n",
      "(512, 512, 3) 255\n"
     ]
    },
    {
     "data": {
      "image/png": "[encoded data removed]",
      "text/plain": [
       "<PIL.Image.Image image mode=RGB size=512x512>"
      ]
     },
     "metadata": {},
     "output_type": "display_data"
    },
    {
     "data": {
      "image/png": "[encoded data removed]",
      "text/plain": [
       "<PIL.Image.Image image mode=RGB size=512x512>"
      ]
     },
     "metadata": {},
     "output_type": "display_data"
    },
    {
     "name": "stdout",
     "output_type": "stream",
     "text": [
      "['a photo of {<OBJ_B>:11557828} on top of {<OBJ_A>:13026880}, and to the right {<OBJ_C>:13655074} falling on {<OBJ_D>:433644}. Background is {<OBJ_E>:5321472}.']\n",
      "{5321472: {'caption': 'a photo of <OBJ_E>'}, 11557828: {'caption': 'a photo of <OBJ_A>'}, 13026880: {'caption': 'a photo of <OBJ_B>'}, 13655074: {'caption': 'a photo of <OBJ_C>'}, 433644: {'caption': 'a photo of <OBJ_D>'}}\n"
     ]
    }
   ],
   "source": [
    "fp = 'evaldata/foursquares.psd'\n",
    "\n",
    "torch.manual_seed(48)\n",
    "prototype = psd_to_cocopanoptic(fp)\n",
    "display_example(prototype)"
   ]
  },
  {
   "cell_type": "code",
   "execution_count": 53,
   "id": "8fc69ece",
   "metadata": {},
   "outputs": [
    {
     "name": "stdout",
     "output_type": "stream",
     "text": [
      "5040\n",
      "{'<OBJ_E>': 'a living room', '<OBJ_A>': 'a concrete block', '<OBJ_B>': 'a yellow book', '<OBJ_C>': 'a gopro camera', '<OBJ_D>': 'spongebob'}\n",
      "{'<OBJ_E>': 'a lush forest', '<OBJ_A>': 'spongebob', '<OBJ_B>': 'a gopro camera', '<OBJ_C>': 'a cardboard box', '<OBJ_D>': 'an old-school tv'}\n",
      "{'<OBJ_E>': 'a brick wall', '<OBJ_A>': 'a square watermelon', '<OBJ_B>': 'a gopro camera', '<OBJ_C>': 'a concrete block', '<OBJ_D>': 'spongebob'}\n",
      "{'<OBJ_E>': 'a lush forest', '<OBJ_A>': 'a washing machine', '<OBJ_B>': 'spongebob', '<OBJ_C>': 'a cardboard box', '<OBJ_D>': 'an old-school tv'}\n",
      "{'<OBJ_E>': 'a brick wall', '<OBJ_A>': 'a washing machine', '<OBJ_B>': 'spongebob', '<OBJ_C>': 'a cardboard box', '<OBJ_D>': 'a square watermelon'}\n",
      "{'<OBJ_E>': 'a brick wall', '<OBJ_A>': 'a concrete block', '<OBJ_B>': 'a square watermelon', '<OBJ_C>': 'a yellow book', '<OBJ_D>': 'a washing machine'}\n",
      "{'<OBJ_E>': 'a lush forest', '<OBJ_A>': 'a gopro camera', '<OBJ_B>': 'a washing machine', '<OBJ_C>': 'a square watermelon', '<OBJ_D>': 'a concrete block'}\n",
      "{'<OBJ_E>': 'a lush forest', '<OBJ_A>': 'a gopro camera', '<OBJ_B>': 'a cardboard box', '<OBJ_C>': 'spongebob', '<OBJ_D>': 'a square watermelon'}\n",
      "{'<OBJ_E>': 'a lush forest', '<OBJ_A>': 'an old-school tv', '<OBJ_B>': 'a yellow book', '<OBJ_C>': 'spongebob', '<OBJ_D>': 'a cardboard box'}\n",
      "{'<OBJ_E>': 'a brick wall', '<OBJ_A>': 'a concrete block', '<OBJ_B>': 'a washing machine', '<OBJ_C>': 'a gopro camera', '<OBJ_D>': 'spongebob'}\n",
      "{'<OBJ_E>': 'a brick wall', '<OBJ_A>': 'an old-school tv', '<OBJ_B>': 'a cardboard box', '<OBJ_C>': 'a yellow book', '<OBJ_D>': 'a concrete block'}\n",
      "{'<OBJ_E>': 'a lush forest', '<OBJ_A>': 'a square watermelon', '<OBJ_B>': 'a yellow book', '<OBJ_C>': 'an old-school tv', '<OBJ_D>': 'a cardboard box'}\n",
      "{'<OBJ_E>': 'a brick wall', '<OBJ_A>': 'a washing machine', '<OBJ_B>': 'an old-school tv', '<OBJ_C>': 'a yellow book', '<OBJ_D>': 'spongebob'}\n",
      "{'<OBJ_E>': 'a brick wall', '<OBJ_A>': 'a square watermelon', '<OBJ_B>': 'a yellow book', '<OBJ_C>': 'a washing machine', '<OBJ_D>': 'a concrete block'}\n",
      "{'<OBJ_E>': 'a living room', '<OBJ_A>': 'a cardboard box', '<OBJ_B>': 'a gopro camera', '<OBJ_C>': 'an old-school tv', '<OBJ_D>': 'spongebob'}\n",
      "{'<OBJ_E>': 'a living room', '<OBJ_A>': 'spongebob', '<OBJ_B>': 'a cardboard box', '<OBJ_C>': 'a washing machine', '<OBJ_D>': 'a square watermelon'}\n",
      "{'<OBJ_E>': 'a living room', '<OBJ_A>': 'spongebob', '<OBJ_B>': 'a concrete block', '<OBJ_C>': 'an old-school tv', '<OBJ_D>': 'a square watermelon'}\n",
      "{'<OBJ_E>': 'a living room', '<OBJ_A>': 'a gopro camera', '<OBJ_B>': 'spongebob', '<OBJ_C>': 'an old-school tv', '<OBJ_D>': 'a square watermelon'}\n",
      "{'<OBJ_E>': 'a lush forest', '<OBJ_A>': 'an old-school tv', '<OBJ_B>': 'spongebob', '<OBJ_C>': 'a yellow book', '<OBJ_D>': 'a square watermelon'}\n",
      "{'<OBJ_E>': 'a brick wall', '<OBJ_A>': 'a concrete block', '<OBJ_B>': 'a yellow book', '<OBJ_C>': 'spongebob', '<OBJ_D>': 'an old-school tv'}\n"
     ]
    },
    {
     "data": {
      "text/plain": [
       "'\\n# iterate through possible combinations\\nspecs = []\\nfor bgr in backgrounds:\\n    spec = {\"<OBJ_D>\": bgr}\\n    specset = set()\\n    for objperm in itertools.combinations_with_replacement(objects, 3):\\n        # print(objperm)\\n        _spec = deepcopy(spec)\\n        for colorperm in itertools.combinations_with_replacement(object_colors, 3):\\n            for posname, obj, color in zip([\"<OBJ_A>\", \"<OBJ_B>\", \"<OBJ_C>\"], objperm, colorperm):\\n                _spec[posname] = obj.format(color=color)\\n            specset = set(_spec.values())\\n            if len(specset) < len(_spec):\\n                continue\\n            specs.append(deepcopy(_spec))\\n            \\nprint(len(specs))\\nrandom.shuffle(specs)\\nspecs = specs[:10]\\nretspecs += specs\\n\\nfor spec in specs:\\n    print(spec)\\n\\n#'"
      ]
     },
     "execution_count": 53,
     "metadata": {},
     "output_type": "execute_result"
    }
   ],
   "source": [
    "# setting three: four squares\n",
    "objects = [\"an old-school tv\", \"a cardboard box\", \"a square watermelon\", \"a concrete block\", \"spongebob\", \n",
    "           \"a yellow book\", \"a washing machine\", \"a gopro camera\"]\n",
    "backgrounds = [\"a lush forest\", \"a brick wall\", \"a living room\"]\n",
    "\n",
    "retspecs = []\n",
    "\n",
    "# iterate through possible permutations\n",
    "specs = []\n",
    "for bgr in backgrounds:\n",
    "    spec = {\"<OBJ_E>\": bgr}\n",
    "    for objperm in itertools.permutations(objects, 4):\n",
    "        for posname, obj in zip([\"<OBJ_A>\", \"<OBJ_B>\", \"<OBJ_C>\", \"<OBJ_D>\"], objperm):\n",
    "            spec[posname] = obj\n",
    "        specs.append(deepcopy(spec))\n",
    "            \n",
    "print(len(specs))\n",
    "random.shuffle(specs)\n",
    "specs = specs[:20]\n",
    "retspecs += specs\n",
    "\n",
    "for spec in specs:\n",
    "    print(spec)\n",
    "    \n",
    "\"\"\"\n",
    "# iterate through possible combinations\n",
    "specs = []\n",
    "for bgr in backgrounds:\n",
    "    spec = {\"<OBJ_D>\": bgr}\n",
    "    specset = set()\n",
    "    for objperm in itertools.combinations_with_replacement(objects, 3):\n",
    "        # print(objperm)\n",
    "        _spec = deepcopy(spec)\n",
    "        for colorperm in itertools.combinations_with_replacement(object_colors, 3):\n",
    "            for posname, obj, color in zip([\"<OBJ_A>\", \"<OBJ_B>\", \"<OBJ_C>\"], objperm, colorperm):\n",
    "                _spec[posname] = obj.format(color=color)\n",
    "            specset = set(_spec.values())\n",
    "            if len(specset) < len(_spec):\n",
    "                continue\n",
    "            specs.append(deepcopy(_spec))\n",
    "            \n",
    "print(len(specs))\n",
    "random.shuffle(specs)\n",
    "specs = specs[:10]\n",
    "retspecs += specs\n",
    "\n",
    "for spec in specs:\n",
    "    print(spec)\n",
    "\n",
    "#\"\"\""
   ]
  },
  {
   "cell_type": "code",
   "execution_count": 54,
   "id": "0b71f3e4",
   "metadata": {},
   "outputs": [],
   "source": [
    "examples = []\n",
    "for spec in retspecs:\n",
    "    x = replace_in_captions(prototype, spec)\n",
    "    display_example(x)\n",
    "    examples.append(x)\n",
    "\n",
    "outname = \"foursquares3\"\n",
    "    \n",
    "Path(\"evaldata/\").mkdir(exist_ok=True)\n",
    "with open(f\"evaldata/{outname}.pkl\", \"wb\") as f:\n",
    "    pkl.dump(examples, f)\n",
    "\n",
    "with open(f\"evaldata/{outname}.spec.json\", \"w\") as f:\n",
    "    for i in range(len(retspecs)):\n",
    "        retspecs[i][\"i\"] = i\n",
    "    json.dump(retspecs, f, indent=4)\n",
    "    \n",
    "    \n"
   ]
  },
  {
   "cell_type": "code",
   "execution_count": null,
   "id": "0429f5ad",
   "metadata": {},
   "outputs": [],
   "source": []
  },
  {
   "cell_type": "code",
   "execution_count": null,
   "id": "9badffd9",
   "metadata": {},
   "outputs": [],
   "source": []
  },
  {
   "cell_type": "code",
   "execution_count": null,
   "id": "f24323c2",
   "metadata": {},
   "outputs": [],
   "source": []
  },
  {
   "cell_type": "code",
   "execution_count": 47,
   "id": "5b961b4e",
   "metadata": {},
   "outputs": [
    {
     "name": "stdout",
     "output_type": "stream",
     "text": [
      "a photo of <OBJ_D>\n",
      "(512, 512, 3) 255\n"
     ]
    },
    {
     "data": {
      "image/png": "[encoded data removed]",
      "text/plain": [
       "<PIL.Image.Image image mode=RGB size=512x512>"
      ]
     },
     "metadata": {},
     "output_type": "display_data"
    },
    {
     "name": "stdout",
     "output_type": "stream",
     "text": [
      "a photo of <OBJ_A>\n",
      "(512, 512, 3) 255\n"
     ]
    },
    {
     "data": {
      "image/png": "[encoded data removed]",
      "text/plain": [
       "<PIL.Image.Image image mode=RGB size=512x512>"
      ]
     },
     "metadata": {},
     "output_type": "display_data"
    },
    {
     "name": "stdout",
     "output_type": "stream",
     "text": [
      "a photo of <OBJ_B>\n",
      "(512, 512, 3) 255\n"
     ]
    },
    {
     "data": {
      "image/png": "[encoded data removed]",
      "text/plain": [
       "<PIL.Image.Image image mode=RGB size=512x512>"
      ]
     },
     "metadata": {},
     "output_type": "display_data"
    },
    {
     "name": "stdout",
     "output_type": "stream",
     "text": [
      "a photo of <OBJ_C>\n",
      "(512, 512, 3) 255\n"
     ]
    },
    {
     "data": {
      "image/png": "[encoded data removed]",
      "text/plain": [
       "<PIL.Image.Image image mode=RGB size=512x512>"
      ]
     },
     "metadata": {},
     "output_type": "display_data"
    },
    {
     "data": {
      "image/png": "[encoded data removed]",
      "text/plain": [
       "<PIL.Image.Image image mode=RGB size=512x512>"
      ]
     },
     "metadata": {},
     "output_type": "display_data"
    },
    {
     "name": "stdout",
     "output_type": "stream",
     "text": [
      "['a photo of {<OBJ_B>:13026880} {<OBJ_A>:11557828} Background is {<OBJ_D>:5321472} with {<OBJ_C>:13655074}.']\n",
      "{5321472: {'caption': 'a photo of <OBJ_D>'}, 11557828: {'caption': 'a photo of <OBJ_A>'}, 13026880: {'caption': 'a photo of <OBJ_B>'}, 13655074: {'caption': 'a photo of <OBJ_C>'}}\n"
     ]
    }
   ],
   "source": [
    "fp = 'evaldata/openair.psd'\n",
    "\n",
    "torch.manual_seed(48)\n",
    "prototype = psd_to_cocopanoptic(fp)\n",
    "display_example(prototype)"
   ]
  },
  {
   "cell_type": "code",
   "execution_count": 72,
   "id": "20f76b38",
   "metadata": {},
   "outputs": [
    {
     "name": "stdout",
     "output_type": "stream",
     "text": [
      "144\n",
      "{'<OBJ_A>': 'in the {desert}', '<OBJ_B>': 'a doll house', '<OBJ_D>': 'a blue sky', '<OBJ_C>': 'a hot air balloon'}\n",
      "{'<OBJ_A>': 'standing on {grass}', '<OBJ_B>': 'a container ship', '<OBJ_D>': 'a blue sky', '<OBJ_C>': 'the death star'}\n",
      "{'<OBJ_A>': 'in the {desert}', '<OBJ_B>': 'an old shack', '<OBJ_D>': 'a lush green forest', '<OBJ_C>': 'a magical fire orb'}\n",
      "{'<OBJ_A>': 'standing on the {ground}', '<OBJ_B>': 'an old shack', '<OBJ_D>': 'a dark starry night sky', '<OBJ_C>': 'the moon'}\n",
      "{'<OBJ_A>': 'floating in the {sea}', '<OBJ_B>': 'a container ship', '<OBJ_D>': 'a dark starry night sky', '<OBJ_C>': 'the moon'}\n",
      "{'<OBJ_A>': 'standing on {grass}', '<OBJ_B>': 'a car', '<OBJ_D>': 'a dark starry night sky', '<OBJ_C>': 'the moon'}\n",
      "{'<OBJ_A>': 'floating in the {sea}', '<OBJ_B>': 'a container ship', '<OBJ_D>': 'a blue sky', '<OBJ_C>': 'the death star'}\n",
      "{'<OBJ_A>': 'in the {desert}', '<OBJ_B>': 'a container ship', '<OBJ_D>': 'a dark starry night sky', '<OBJ_C>': 'a hot air balloon'}\n",
      "{'<OBJ_A>': 'floating in the {sea}', '<OBJ_B>': 'an old shack', '<OBJ_D>': 'a blue sky', '<OBJ_C>': 'the sun'}\n",
      "{'<OBJ_A>': 'standing on {grass}', '<OBJ_B>': 'a car', '<OBJ_D>': 'a blue sky', '<OBJ_C>': 'the moon'}\n",
      "{'<OBJ_A>': 'standing on the {ground}', '<OBJ_B>': 'a car', '<OBJ_D>': 'a dark starry night sky', '<OBJ_C>': 'the moon'}\n",
      "{'<OBJ_A>': 'standing on {grass}', '<OBJ_B>': 'a container ship', '<OBJ_D>': 'a blue sky', '<OBJ_C>': 'a hot air balloon'}\n",
      "{'<OBJ_A>': 'floating in the {sea}', '<OBJ_B>': 'a doll house', '<OBJ_D>': 'a lush green forest', '<OBJ_C>': 'a magical fire orb'}\n",
      "{'<OBJ_A>': 'in the {desert}', '<OBJ_B>': 'a container ship', '<OBJ_D>': 'a blue sky', '<OBJ_C>': 'the moon'}\n",
      "{'<OBJ_A>': 'in the {desert}', '<OBJ_B>': 'a container ship', '<OBJ_D>': 'a lush green forest', '<OBJ_C>': 'a red balloon'}\n",
      "{'<OBJ_A>': 'floating in the {sea}', '<OBJ_B>': 'a doll house', '<OBJ_D>': 'a lush green forest', '<OBJ_C>': 'a red balloon'}\n",
      "{'<OBJ_A>': 'in the {desert}', '<OBJ_B>': 'a car', '<OBJ_D>': 'a lush green forest', '<OBJ_C>': 'a red balloon'}\n",
      "{'<OBJ_A>': 'in the {desert}', '<OBJ_B>': 'a car', '<OBJ_D>': 'a blue sky', '<OBJ_C>': 'the death star'}\n",
      "{'<OBJ_A>': 'standing on the {ground}', '<OBJ_B>': 'a car', '<OBJ_D>': 'a blue sky', '<OBJ_C>': 'the sun'}\n",
      "{'<OBJ_A>': 'floating in the {sea}', '<OBJ_B>': 'a car', '<OBJ_D>': 'a blue sky', '<OBJ_C>': 'the sun'}\n"
     ]
    }
   ],
   "source": [
    "possibilities = {\n",
    "    \"<OBJ_A>\": [\"in the {desert}\", \"floating in the {sea}\", \"standing on the {ground}\", \"standing on {grass}\"],\n",
    "    \"<OBJ_B>\": [\"a doll house\", \"a container ship\", \"an old shack\", \"a car\"],\n",
    "    (\"<OBJ_D>\", \"<OBJ_C>\"): [([\"a dark starry night sky\"], [\"the moon\", \"a blood red moon\", \"a hot air balloon\"]), ([\"a blue sky\"], [\"the sun\", \"the moon\", \"a hot air balloon\", \"the death star\"]), ([\"a lush green forest\"], [\"a magical fire orb\", \"a red balloon\"])]\n",
    "}\n",
    "\n",
    "def get_possibilities2(ps):\n",
    "    ret = []\n",
    "    if len(ps) == 0:\n",
    "        return [{}]\n",
    "    for k in ps.keys():\n",
    "        vs = ps[k]\n",
    "        del ps[k]\n",
    "        downposs = get_possibilities(ps)\n",
    "        for e in downposs:\n",
    "            if isinstance(k, tuple):\n",
    "                pass\n",
    "            else:\n",
    "                for ve in vs:\n",
    "                    e_copy = deepcopy(e)\n",
    "                    e_copy[k] = ve\n",
    "                    ret.append(e_copy)\n",
    "        break\n",
    "    return ret\n",
    "\n",
    "def get_possibilities(ps):\n",
    "    ret = [{}]\n",
    "    for k, vs in ps.items():\n",
    "        newret = []\n",
    "        for e in ret:\n",
    "            for ve in vs:\n",
    "                if isinstance(k, tuple):\n",
    "                    assert isinstance(ve, tuple)\n",
    "                    ves = itertools.product(*ve)\n",
    "                    for vee in ves:\n",
    "                        e_copy = deepcopy(e)\n",
    "                        for ke, veee in zip(k, vee):\n",
    "                            e_copy[ke] = veee\n",
    "                        newret.append(e_copy)\n",
    "                else:\n",
    "                    e_copy = deepcopy(e)\n",
    "                    e_copy[k] = ve\n",
    "                    newret.append(e_copy)\n",
    "        ret = newret\n",
    "    return ret\n",
    "    \n",
    "pss = get_possibilities(possibilities)\n",
    "print(len(pss))\n",
    "    \n",
    "specs = pss\n",
    "random.shuffle(specs)\n",
    "specs = specs[:20]\n",
    "for psse in specs:\n",
    "    print(psse)\n",
    "    \n",
    "    "
   ]
  },
  {
   "cell_type": "code",
   "execution_count": 74,
   "id": "bc7c2403",
   "metadata": {},
   "outputs": [],
   "source": [
    "examples = []\n",
    "for spec in specs:\n",
    "    x = replace_in_captions(prototype, spec)\n",
    "    # display_example(x)\n",
    "    examples.append(x)\n",
    "    \n",
    "Path(\"evaldata\").mkdir(exist_ok=True)\n",
    "with open(\"evaldata/openair1.pkl\", \"wb\") as f:\n",
    "    pkl.dump(examples, f)"
   ]
  },
  {
   "cell_type": "code",
   "execution_count": null,
   "id": "d65914ba",
   "metadata": {},
   "outputs": [],
   "source": []
  }
 ],
 "metadata": {
  "kernelspec": {
   "display_name": "Python 3 (ipykernel)",
   "language": "python",
   "name": "python3"
  },
  "language_info": {
   "codemirror_mode": {
    "name": "ipython",
    "version": 3
   },
   "file_extension": ".py",
   "mimetype": "text/x-python",
   "name": "python",
   "nbconvert_exporter": "python",
   "pygments_lexer": "ipython3",
   "version": "3.9.16"
  }
 },
 "nbformat": 4,
 "nbformat_minor": 5
}
