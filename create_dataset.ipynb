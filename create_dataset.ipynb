{
 "cells": [
  {
   "cell_type": "code",
   "execution_count": 1,
   "id": "bb97a8bc",
   "metadata": {},
   "outputs": [],
   "source": [
    "%load_ext autoreload\n",
    "%autoreload 2"
   ]
  },
  {
   "cell_type": "code",
   "execution_count": 6,
   "id": "b07f6c77",
   "metadata": {},
   "outputs": [],
   "source": [
    "import re\n",
    "from dataset import COCOPanopticDataset, COCODataLoader, COCOPanopticExample\n",
    "from copy import copy, deepcopy\n",
    "import json\n",
    "from PIL import Image\n",
    "import pickle as pkl\n",
    "\n",
    "from gradio_pww import unpack_layers\n",
    "import psd_tools\n",
    "import numpy as np\n",
    "import torch"
   ]
  },
  {
   "cell_type": "code",
   "execution_count": null,
   "id": "7a5c0049",
   "metadata": {},
   "outputs": [],
   "source": []
  },
  {
   "cell_type": "code",
   "execution_count": 3,
   "id": "f9b387f7",
   "metadata": {},
   "outputs": [],
   "source": [
    "def segmap_from_layers(layers, globalprompt):\n",
    "    ret = None\n",
    "    retdict = {}\n",
    "    for i, layer in enumerate(layers):\n",
    "        randomcolor = torch.randint(0, 256, (3,))     # RGB\n",
    "        code = randomcolor[0].item() + randomcolor[1].item() * 256 + randomcolor[2].item() * (256**2)\n",
    "        if f\":{i}}}\" in globalprompt:\n",
    "            globalprompt = re.sub(f\"\\:{i}\\\\}}\", f\":{code}}}\", globalprompt)\n",
    "        mask = layer[(512,512)]\n",
    "        maskcolor = mask.unsqueeze(-1).repeat(1, 1, 3) * randomcolor[None, None, :]\n",
    "        if ret is None:\n",
    "            ret = torch.zeros_like(maskcolor)\n",
    "        ret = torch.where(mask.unsqueeze(-1) > 0.5, maskcolor, ret)\n",
    "        retdict[code] = {\"caption\": layer[\"pos\"]}\n",
    "        \n",
    "    ret = (ret).to(torch.long).cpu().numpy()\n",
    "    \n",
    "    return ret, retdict, globalprompt\n",
    "\n",
    "def psd_to_cocopanoptic(fp):\n",
    "    layers = psd_tools.PSDImage.open(fp)\n",
    "    spec = unpack_layers(layers)\n",
    "    segmap, prompts, globalprompt = segmap_from_layers(spec[\"layers\"], spec[\"global\"][\"pos\"])\n",
    "    img = Image.fromarray(segmap.astype(np.uint8))\n",
    "    ret = COCOPanopticExample(\n",
    "        id=-1,\n",
    "        img=img,\n",
    "        captions=[globalprompt],\n",
    "        seg_img=img,\n",
    "        seg_info=prompts,\n",
    "        cropsize=512\n",
    "    )\n",
    "    return ret\n",
    "\n",
    "def display_example(x):\n",
    "    display(x.load_seg_image())\n",
    "    print(x.captions)\n",
    "    print(repr(x.seg_info))\n"
   ]
  },
  {
   "cell_type": "code",
   "execution_count": 4,
   "id": "1225a399",
   "metadata": {},
   "outputs": [],
   "source": [
    "# examples with three circular shapes\n",
    "threecirclesexamples = []"
   ]
  },
  {
   "cell_type": "code",
   "execution_count": 16,
   "id": "c6dd9484",
   "metadata": {},
   "outputs": [
    {
     "data": {
      "image/png": "[encoded data removed]",
      "text/plain": [
       "<PIL.Image.Image image mode=RGB size=512x512>"
      ]
     },
     "metadata": {},
     "output_type": "display_data"
    },
    {
     "name": "stdout",
     "output_type": "stream",
     "text": [
      "['a highly detailed photorealistic image of {a gold coin:4586434}, {a blue crystal ball:15175023} and {a red tennis ball:1380301} on {a wooden table:10999398}.']\n",
      "{10999398: {'caption': 'a highly detailed photorealistic image of a wooden table'}, 1380301: {'caption': 'a highly detailed photorealistic image of a red tennis ball'}, 15175023: {'caption': 'a highly detailed photorealistic image of a blue crystal ball'}, 4586434: {'caption': 'a highly detailed photorealistic image of a gold coin'}}\n"
     ]
    }
   ],
   "source": [
    "fp = '/USERSPACE/lukovdg1/datasets2/datasets/images/balls2.psd'\n",
    "\n",
    "example = psd_to_cocopanoptic(fp)\n",
    "display_example(example)"
   ]
  },
  {
   "cell_type": "code",
   "execution_count": 17,
   "id": "3bacba3f",
   "metadata": {},
   "outputs": [],
   "source": [
    "# create prototype from example\n",
    "\n",
    "def replace_in_captions(x, repls):\n",
    "    newcaptions = []\n",
    "    for caption in x.captions:\n",
    "        for k, v in repls.items():\n",
    "            caption = caption.replace(k, v)\n",
    "        newcaptions.append(caption)\n",
    "\n",
    "    new_seg_info = {}\n",
    "    for regioncode, regioninfo in x.seg_info.items():\n",
    "        caption = regioninfo[\"caption\"]\n",
    "        for k, v in repls.items():\n",
    "            caption = caption.replace(k, v)\n",
    "        new_seg_info[regioncode] = {\"caption\": caption}\n",
    "\n",
    "    ret = deepcopy(x)\n",
    "    ret.captions = newcaptions\n",
    "    ret.seg_info = new_seg_info\n",
    "    return ret"
   ]
  },
  {
   "cell_type": "code",
   "execution_count": 18,
   "id": "88f47455",
   "metadata": {},
   "outputs": [
    {
     "data": {
      "image/png": "[encoded data removed]",
      "text/plain": [
       "<PIL.Image.Image image mode=RGB size=512x512>"
      ]
     },
     "metadata": {},
     "output_type": "display_data"
    },
    {
     "name": "stdout",
     "output_type": "stream",
     "text": [
      "['a highly detailed photorealistic image of {<OBJ_A>:4586434}, {<OBJ_B>:15175023} and {<OBJ_C>:1380301} on {<OBJ_D>:10999398}.']\n",
      "{10999398: {'caption': 'a highly detailed photorealistic image of <OBJ_D>'}, 1380301: {'caption': 'a highly detailed photorealistic image of <OBJ_C>'}, 15175023: {'caption': 'a highly detailed photorealistic image of <OBJ_B>'}, 4586434: {'caption': 'a highly detailed photorealistic image of <OBJ_A>'}}\n"
     ]
    }
   ],
   "source": [
    "repls = {\n",
    "    \"a gold coin\": \"<OBJ_A>\",\n",
    "    \"a blue crystal ball\": \"<OBJ_B>\",\n",
    "    \"a red tennis ball\": \"<OBJ_C>\",\n",
    "    \"a wooden table\": \"<OBJ_D>\"\n",
    "}\n",
    "prototype = replace_in_captions(example, repls)\n",
    "display_example(prototype)"
   ]
  },
  {
   "cell_type": "code",
   "execution_count": 19,
   "id": "3670211b",
   "metadata": {},
   "outputs": [],
   "source": [
    "import random\n",
    "import itertools\n",
    "\n",
    "random.seed(42)"
   ]
  },
  {
   "cell_type": "code",
   "execution_count": 27,
   "id": "485ee2da",
   "metadata": {
    "scrolled": false
   },
   "outputs": [
    {
     "name": "stdout",
     "output_type": "stream",
     "text": [
      "72\n",
      "{'<OBJ_D>': 'grass', '<OBJ_A>': 'a red crystal ball', '<OBJ_B>': 'a yellow ping pong ball', '<OBJ_C>': 'a blue tennis ball'}\n",
      "{'<OBJ_D>': 'a wooden table', '<OBJ_A>': 'a blue crystal ball', '<OBJ_B>': 'a red ping pong ball', '<OBJ_C>': 'a yellow tennis ball'}\n",
      "{'<OBJ_D>': 'a wooden table', '<OBJ_A>': 'a blue tennis ball', '<OBJ_B>': 'a yellow crystal ball', '<OBJ_C>': 'a red ping pong ball'}\n",
      "{'<OBJ_D>': 'grass', '<OBJ_A>': 'a blue tennis ball', '<OBJ_B>': 'a red crystal ball', '<OBJ_C>': 'a yellow ping pong ball'}\n",
      "{'<OBJ_D>': 'a wooden table', '<OBJ_A>': 'a blue ping pong ball', '<OBJ_B>': 'a red tennis ball', '<OBJ_C>': 'a yellow crystal ball'}\n",
      "{'<OBJ_D>': 'a wooden table', '<OBJ_A>': 'a yellow crystal ball', '<OBJ_B>': 'a blue ping pong ball', '<OBJ_C>': 'a red tennis ball'}\n",
      "{'<OBJ_D>': 'a wooden table', '<OBJ_A>': 'a blue tennis ball', '<OBJ_B>': 'a red ping pong ball', '<OBJ_C>': 'a yellow crystal ball'}\n",
      "{'<OBJ_D>': 'a wooden table', '<OBJ_A>': 'a yellow ping pong ball', '<OBJ_B>': 'a red crystal ball', '<OBJ_C>': 'a blue tennis ball'}\n",
      "{'<OBJ_D>': 'a wooden table', '<OBJ_A>': 'a blue crystal ball', '<OBJ_B>': 'a yellow ping pong ball', '<OBJ_C>': 'a red tennis ball'}\n",
      "{'<OBJ_D>': 'a wooden table', '<OBJ_A>': 'a blue ping pong ball', '<OBJ_B>': 'a yellow tennis ball', '<OBJ_C>': 'a red crystal ball'}\n",
      "74\n",
      "{'<OBJ_D>': 'a wooden table', '<OBJ_A>': 'a red tennis ball', '<OBJ_B>': 'a red ping pong ball', '<OBJ_C>': 'a yellow ping pong ball'}\n",
      "{'<OBJ_D>': 'a wooden table', '<OBJ_A>': 'a red crystal ball', '<OBJ_B>': 'a red tennis ball', '<OBJ_C>': 'a blue tennis ball'}\n",
      "{'<OBJ_D>': 'grass', '<OBJ_A>': 'a red crystal ball', '<OBJ_B>': 'a yellow tennis ball', '<OBJ_C>': 'a yellow ping pong ball'}\n",
      "{'<OBJ_D>': 'grass', '<OBJ_A>': 'a red crystal ball', '<OBJ_B>': 'a red ping pong ball', '<OBJ_C>': 'a yellow ping pong ball'}\n",
      "{'<OBJ_D>': 'a wooden table', '<OBJ_A>': 'a red tennis ball', '<OBJ_B>': 'a blue ping pong ball', '<OBJ_C>': 'a yellow ping pong ball'}\n",
      "{'<OBJ_D>': 'grass', '<OBJ_A>': 'a red tennis ball', '<OBJ_B>': 'a red ping pong ball', '<OBJ_C>': 'a yellow ping pong ball'}\n",
      "{'<OBJ_D>': 'a wooden table', '<OBJ_A>': 'a blue crystal ball', '<OBJ_B>': 'a blue ping pong ball', '<OBJ_C>': 'a yellow ping pong ball'}\n",
      "{'<OBJ_D>': 'grass', '<OBJ_A>': 'a blue crystal ball', '<OBJ_B>': 'a yellow crystal ball', '<OBJ_C>': 'a yellow tennis ball'}\n",
      "{'<OBJ_D>': 'a wooden table', '<OBJ_A>': 'a blue tennis ball', '<OBJ_B>': 'a blue ping pong ball', '<OBJ_C>': 'a yellow ping pong ball'}\n",
      "{'<OBJ_D>': 'grass', '<OBJ_A>': 'a blue tennis ball', '<OBJ_B>': 'a yellow tennis ball', '<OBJ_C>': 'a yellow ping pong ball'}\n"
     ]
    }
   ],
   "source": [
    "# setting one: balls\n",
    "objects = [\"a {color} crystal ball\", \"a {color} tennis ball\", \"a {color} ping pong ball\"]\n",
    "object_colors = [\"red\", \"blue\", \"yellow\"]\n",
    "backgrounds = [\"a wooden table\", \"grass\"]\n",
    "\n",
    "retspecs = []\n",
    "\n",
    "# iterate through possible permutations\n",
    "specs = []\n",
    "for bgr in backgrounds:\n",
    "    spec = {\"<OBJ_D>\": bgr}\n",
    "    for objperm in itertools.permutations(objects, 3):\n",
    "        # print(objperm)\n",
    "        for colorperm in itertools.permutations(object_colors, 3):\n",
    "            for posname, obj, color in zip([\"<OBJ_A>\", \"<OBJ_B>\", \"<OBJ_C>\"], objperm, colorperm):\n",
    "                spec[posname] = obj.format(color=color)\n",
    "            specs.append(deepcopy(spec))\n",
    "            \n",
    "print(len(specs))\n",
    "random.shuffle(specs)\n",
    "specs = specs[:10]\n",
    "retspecs += specs\n",
    "\n",
    "for spec in specs:\n",
    "    print(spec)\n",
    "    \n",
    "    \n",
    "# iterate through possible combinations\n",
    "specs = []\n",
    "for bgr in backgrounds:\n",
    "    spec = {\"<OBJ_D>\": bgr}\n",
    "    specset = set()\n",
    "    for objperm in itertools.combinations_with_replacement(objects, 3):\n",
    "        # print(objperm)\n",
    "        _spec = deepcopy(spec)\n",
    "        for colorperm in itertools.combinations_with_replacement(object_colors, 3):\n",
    "            for posname, obj, color in zip([\"<OBJ_A>\", \"<OBJ_B>\", \"<OBJ_C>\"], objperm, colorperm):\n",
    "                _spec[posname] = obj.format(color=color)\n",
    "            specset = set(_spec.values())\n",
    "            if len(specset) < len(_spec):\n",
    "                continue\n",
    "            specs.append(deepcopy(_spec))\n",
    "            \n",
    "print(len(specs))\n",
    "random.shuffle(specs)\n",
    "specs = specs[:10]\n",
    "retspecs += specs\n",
    "\n",
    "for spec in specs:\n",
    "    print(spec)\n",
    "            "
   ]
  },
  {
   "cell_type": "code",
   "execution_count": 28,
   "id": "99c51e0f",
   "metadata": {
    "scrolled": false
   },
   "outputs": [],
   "source": [
    "examples = []\n",
    "for spec in retspecs:\n",
    "    x = replace_in_captions(prototype, spec)\n",
    "    # display_example(x)\n",
    "    examples.append(x)\n",
    "    \n",
    "with open(\"threeballs.variants.pkl\", \"wb\") as f:\n",
    "    pkl.dump(examples, f)\n",
    "    \n"
   ]
  },
  {
   "cell_type": "code",
   "execution_count": 30,
   "id": "dd0a06b4",
   "metadata": {},
   "outputs": [
    {
     "name": "stdout",
     "output_type": "stream",
     "text": [
      "108\n",
      "{'<OBJ_D>': 'a fruit basket', '<OBJ_A>': 'a green watermelon', '<OBJ_B>': 'a yellow orange', '<OBJ_C>': 'a red apple'}\n",
      "{'<OBJ_D>': 'a fruit basket', '<OBJ_A>': 'a green orange', '<OBJ_B>': 'a red watermelon', '<OBJ_C>': 'a yellow apple'}\n",
      "{'<OBJ_D>': 'a fruit basket', '<OBJ_A>': 'a green watermelon', '<OBJ_B>': 'a yellow apple', '<OBJ_C>': 'a red orange'}\n",
      "{'<OBJ_D>': 'a fruit basket', '<OBJ_A>': 'a green apple', '<OBJ_B>': 'a yellow watermelon', '<OBJ_C>': 'a red orange'}\n",
      "{'<OBJ_D>': 'a fruit basket', '<OBJ_A>': 'a red apple', '<OBJ_B>': 'a green orange', '<OBJ_C>': 'a yellow watermelon'}\n",
      "{'<OBJ_D>': 'grass', '<OBJ_A>': 'a red orange', '<OBJ_B>': 'a yellow apple', '<OBJ_C>': 'a green watermelon'}\n",
      "{'<OBJ_D>': 'a fruit basket', '<OBJ_A>': 'a yellow watermelon', '<OBJ_B>': 'a red orange', '<OBJ_C>': 'a green apple'}\n",
      "{'<OBJ_D>': 'a kitchen table', '<OBJ_A>': 'a green apple', '<OBJ_B>': 'a yellow watermelon', '<OBJ_C>': 'a red orange'}\n",
      "{'<OBJ_D>': 'a fruit basket', '<OBJ_A>': 'a red orange', '<OBJ_B>': 'a green watermelon', '<OBJ_C>': 'a yellow apple'}\n",
      "{'<OBJ_D>': 'a fruit basket', '<OBJ_A>': 'a yellow apple', '<OBJ_B>': 'a red watermelon', '<OBJ_C>': 'a green orange'}\n",
      "111\n",
      "{'<OBJ_D>': 'a kitchen table', '<OBJ_A>': 'a yellow orange', '<OBJ_B>': 'a yellow apple', '<OBJ_C>': 'a yellow watermelon'}\n",
      "{'<OBJ_D>': 'a kitchen table', '<OBJ_A>': 'a red orange', '<OBJ_B>': 'a green orange', '<OBJ_C>': 'a yellow orange'}\n",
      "{'<OBJ_D>': 'grass', '<OBJ_A>': 'a green apple', '<OBJ_B>': 'a green watermelon', '<OBJ_C>': 'a yellow watermelon'}\n",
      "{'<OBJ_D>': 'a fruit basket', '<OBJ_A>': 'a red orange', '<OBJ_B>': 'a green orange', '<OBJ_C>': 'a yellow apple'}\n",
      "{'<OBJ_D>': 'a kitchen table', '<OBJ_A>': 'a green orange', '<OBJ_B>': 'a yellow orange', '<OBJ_C>': 'a yellow watermelon'}\n",
      "{'<OBJ_D>': 'grass', '<OBJ_A>': 'a red orange', '<OBJ_B>': 'a red apple', '<OBJ_C>': 'a green watermelon'}\n",
      "{'<OBJ_D>': 'a fruit basket', '<OBJ_A>': 'a red orange', '<OBJ_B>': 'a yellow orange', '<OBJ_C>': 'a yellow apple'}\n",
      "{'<OBJ_D>': 'a fruit basket', '<OBJ_A>': 'a red orange', '<OBJ_B>': 'a red apple', '<OBJ_C>': 'a green apple'}\n",
      "{'<OBJ_D>': 'grass', '<OBJ_A>': 'a red orange', '<OBJ_B>': 'a yellow apple', '<OBJ_C>': 'a yellow watermelon'}\n",
      "{'<OBJ_D>': 'a kitchen table', '<OBJ_A>': 'a red orange', '<OBJ_B>': 'a yellow orange', '<OBJ_C>': 'a yellow apple'}\n"
     ]
    }
   ],
   "source": [
    "# setting one: fruits\n",
    "objects = [\"a {color} orange\", \"a {color} apple\", \"a {color} watermelon\"]\n",
    "object_colors = [\"red\", \"green\", \"yellow\"]\n",
    "backgrounds = [\"a kitchen table\", \"grass\", \"a fruit basket\"]\n",
    "\n",
    "retspecs = []\n",
    "\n",
    "# iterate through possible permutations\n",
    "specs = []\n",
    "for bgr in backgrounds:\n",
    "    spec = {\"<OBJ_D>\": bgr}\n",
    "    for objperm in itertools.permutations(objects, 3):\n",
    "        # print(objperm)\n",
    "        for colorperm in itertools.permutations(object_colors, 3):\n",
    "            for posname, obj, color in zip([\"<OBJ_A>\", \"<OBJ_B>\", \"<OBJ_C>\"], objperm, colorperm):\n",
    "                spec[posname] = obj.format(color=color)\n",
    "            specs.append(deepcopy(spec))\n",
    "            \n",
    "print(len(specs))\n",
    "random.shuffle(specs)\n",
    "specs = specs[:10]\n",
    "retspecs += specs\n",
    "\n",
    "for spec in specs:\n",
    "    print(spec)\n",
    "    \n",
    "    \n",
    "# iterate through possible combinations\n",
    "specs = []\n",
    "for bgr in backgrounds:\n",
    "    spec = {\"<OBJ_D>\": bgr}\n",
    "    specset = set()\n",
    "    for objperm in itertools.combinations_with_replacement(objects, 3):\n",
    "        # print(objperm)\n",
    "        _spec = deepcopy(spec)\n",
    "        for colorperm in itertools.combinations_with_replacement(object_colors, 3):\n",
    "            for posname, obj, color in zip([\"<OBJ_A>\", \"<OBJ_B>\", \"<OBJ_C>\"], objperm, colorperm):\n",
    "                _spec[posname] = obj.format(color=color)\n",
    "            specset = set(_spec.values())\n",
    "            if len(specset) < len(_spec):\n",
    "                continue\n",
    "            specs.append(deepcopy(_spec))\n",
    "            \n",
    "print(len(specs))\n",
    "random.shuffle(specs)\n",
    "specs = specs[:10]\n",
    "retspecs += specs\n",
    "\n",
    "for spec in specs:\n",
    "    print(spec)\n",
    "            "
   ]
  },
  {
   "cell_type": "code",
   "execution_count": 31,
   "id": "ed20361d",
   "metadata": {},
   "outputs": [],
   "source": [
    "examples = []\n",
    "for spec in retspecs:\n",
    "    x = replace_in_captions(prototype, spec)\n",
    "    # display_example(x)\n",
    "    examples.append(x)\n",
    "    \n",
    "with open(\"threefruits.variants.pkl\", \"wb\") as f:\n",
    "    pkl.dump(examples, f)\n",
    "    \n"
   ]
  },
  {
   "cell_type": "code",
   "execution_count": 88,
   "id": "0aff6c54",
   "metadata": {},
   "outputs": [
    {
     "name": "stdout",
     "output_type": "stream",
     "text": [
      "36\n",
      "{'<OBJ_D>': 'a table', '<OBJ_A>': 'a blue BMW sign', '<OBJ_B>': 'a black Mercedes sign', '<OBJ_C>': 'a red gold coin'}\n",
      "{'<OBJ_D>': 'a table', '<OBJ_A>': 'a black Mercedes sign', '<OBJ_B>': 'a red gold coin', '<OBJ_C>': 'a blue BMW sign'}\n",
      "{'<OBJ_D>': 'a table', '<OBJ_A>': 'a black gold coin', '<OBJ_B>': 'a blue BMW sign', '<OBJ_C>': 'a red Mercedes sign'}\n",
      "{'<OBJ_D>': 'a table', '<OBJ_A>': 'a blue Mercedes sign', '<OBJ_B>': 'a red BMW sign', '<OBJ_C>': 'a black gold coin'}\n",
      "{'<OBJ_D>': 'a table', '<OBJ_A>': 'a blue BMW sign', '<OBJ_B>': 'a black gold coin', '<OBJ_C>': 'a red Mercedes sign'}\n",
      "{'<OBJ_D>': 'a table', '<OBJ_A>': 'a black Mercedes sign', '<OBJ_B>': 'a blue BMW sign', '<OBJ_C>': 'a red gold coin'}\n",
      "{'<OBJ_D>': 'a table', '<OBJ_A>': 'a blue gold coin', '<OBJ_B>': 'a red Mercedes sign', '<OBJ_C>': 'a black BMW sign'}\n",
      "{'<OBJ_D>': 'a table', '<OBJ_A>': 'a black gold coin', '<OBJ_B>': 'a red Mercedes sign', '<OBJ_C>': 'a blue BMW sign'}\n",
      "{'<OBJ_D>': 'a table', '<OBJ_A>': 'a blue gold coin', '<OBJ_B>': 'a black BMW sign', '<OBJ_C>': 'a red Mercedes sign'}\n",
      "{'<OBJ_D>': 'a table', '<OBJ_A>': 'a black BMW sign', '<OBJ_B>': 'a red Mercedes sign', '<OBJ_C>': 'a blue gold coin'}\n",
      "{'<OBJ_D>': 'a table', '<OBJ_A>': 'a red gold coin', '<OBJ_B>': 'a blue BMW sign', '<OBJ_C>': 'a black Mercedes sign'}\n",
      "{'<OBJ_D>': 'a table', '<OBJ_A>': 'a blue gold coin', '<OBJ_B>': 'a red BMW sign', '<OBJ_C>': 'a black Mercedes sign'}\n",
      "{'<OBJ_D>': 'a table', '<OBJ_A>': 'a red gold coin', '<OBJ_B>': 'a blue Mercedes sign', '<OBJ_C>': 'a black BMW sign'}\n",
      "{'<OBJ_D>': 'a table', '<OBJ_A>': 'a red Mercedes sign', '<OBJ_B>': 'a black BMW sign', '<OBJ_C>': 'a blue gold coin'}\n",
      "{'<OBJ_D>': 'a table', '<OBJ_A>': 'a black BMW sign', '<OBJ_B>': 'a red gold coin', '<OBJ_C>': 'a blue Mercedes sign'}\n",
      "{'<OBJ_D>': 'a table', '<OBJ_A>': 'a blue Mercedes sign', '<OBJ_B>': 'a black BMW sign', '<OBJ_C>': 'a red gold coin'}\n",
      "{'<OBJ_D>': 'a table', '<OBJ_A>': 'a blue Mercedes sign', '<OBJ_B>': 'a black gold coin', '<OBJ_C>': 'a red BMW sign'}\n",
      "{'<OBJ_D>': 'a table', '<OBJ_A>': 'a red Mercedes sign', '<OBJ_B>': 'a blue gold coin', '<OBJ_C>': 'a black BMW sign'}\n",
      "{'<OBJ_D>': 'a table', '<OBJ_A>': 'a blue BMW sign', '<OBJ_B>': 'a red Mercedes sign', '<OBJ_C>': 'a black gold coin'}\n",
      "{'<OBJ_D>': 'a table', '<OBJ_A>': 'a red Mercedes sign', '<OBJ_B>': 'a blue BMW sign', '<OBJ_C>': 'a black gold coin'}\n",
      "{'<OBJ_D>': 'a table', '<OBJ_A>': 'a black gold coin', '<OBJ_B>': 'a blue Mercedes sign', '<OBJ_C>': 'a red BMW sign'}\n",
      "{'<OBJ_D>': 'a table', '<OBJ_A>': 'a black Mercedes sign', '<OBJ_B>': 'a red BMW sign', '<OBJ_C>': 'a blue gold coin'}\n",
      "{'<OBJ_D>': 'a table', '<OBJ_A>': 'a red BMW sign', '<OBJ_B>': 'a black Mercedes sign', '<OBJ_C>': 'a blue gold coin'}\n",
      "{'<OBJ_D>': 'a table', '<OBJ_A>': 'a red BMW sign', '<OBJ_B>': 'a black gold coin', '<OBJ_C>': 'a blue Mercedes sign'}\n",
      "{'<OBJ_D>': 'a table', '<OBJ_A>': 'a blue gold coin', '<OBJ_B>': 'a black Mercedes sign', '<OBJ_C>': 'a red BMW sign'}\n",
      "100\n",
      "{'<OBJ_D>': 'a table', '<OBJ_A>': 'a black BMW sign', '<OBJ_B>': 'a black gold coin', '<OBJ_C>': 'a blue gold coin'}\n",
      "{'<OBJ_D>': 'a table', '<OBJ_A>': 'a red BMW sign', '<OBJ_B>': 'a red BMW sign', '<OBJ_C>': 'a blue BMW sign'}\n",
      "{'<OBJ_D>': 'a table', '<OBJ_A>': 'a black BMW sign', '<OBJ_B>': 'a black BMW sign', '<OBJ_C>': 'a blue gold coin'}\n",
      "{'<OBJ_D>': 'a table', '<OBJ_A>': 'a black BMW sign', '<OBJ_B>': 'a black BMW sign', '<OBJ_C>': 'a blue BMW sign'}\n",
      "{'<OBJ_D>': 'a table', '<OBJ_A>': 'a blue BMW sign', '<OBJ_B>': 'a blue BMW sign', '<OBJ_C>': 'a blue Mercedes sign'}\n",
      "{'<OBJ_D>': 'a table', '<OBJ_A>': 'a red BMW sign', '<OBJ_B>': 'a red BMW sign', '<OBJ_C>': 'a black Mercedes sign'}\n",
      "{'<OBJ_D>': 'a table', '<OBJ_A>': 'a red BMW sign', '<OBJ_B>': 'a black BMW sign', '<OBJ_C>': 'a black gold coin'}\n",
      "{'<OBJ_D>': 'a table', '<OBJ_A>': 'a red Mercedes sign', '<OBJ_B>': 'a red gold coin', '<OBJ_C>': 'a red gold coin'}\n",
      "{'<OBJ_D>': 'a table', '<OBJ_A>': 'a red Mercedes sign', '<OBJ_B>': 'a red Mercedes sign', '<OBJ_C>': 'a red Mercedes sign'}\n",
      "{'<OBJ_D>': 'a table', '<OBJ_A>': 'a red Mercedes sign', '<OBJ_B>': 'a blue gold coin', '<OBJ_C>': 'a blue gold coin'}\n",
      "{'<OBJ_D>': 'a table', '<OBJ_A>': 'a red BMW sign', '<OBJ_B>': 'a blue gold coin', '<OBJ_C>': 'a blue gold coin'}\n",
      "{'<OBJ_D>': 'a table', '<OBJ_A>': 'a red BMW sign', '<OBJ_B>': 'a blue BMW sign', '<OBJ_C>': 'a blue gold coin'}\n",
      "{'<OBJ_D>': 'a table', '<OBJ_A>': 'a blue gold coin', '<OBJ_B>': 'a blue gold coin', '<OBJ_C>': 'a blue gold coin'}\n",
      "{'<OBJ_D>': 'a table', '<OBJ_A>': 'a red BMW sign', '<OBJ_B>': 'a red gold coin', '<OBJ_C>': 'a black gold coin'}\n",
      "{'<OBJ_D>': 'a table', '<OBJ_A>': 'a red Mercedes sign', '<OBJ_B>': 'a black Mercedes sign', '<OBJ_C>': 'a black gold coin'}\n",
      "{'<OBJ_D>': 'a table', '<OBJ_A>': 'a red BMW sign', '<OBJ_B>': 'a red BMW sign', '<OBJ_C>': 'a black BMW sign'}\n",
      "{'<OBJ_D>': 'a table', '<OBJ_A>': 'a black Mercedes sign', '<OBJ_B>': 'a black Mercedes sign', '<OBJ_C>': 'a blue gold coin'}\n",
      "{'<OBJ_D>': 'a table', '<OBJ_A>': 'a red BMW sign', '<OBJ_B>': 'a red BMW sign', '<OBJ_C>': 'a red Mercedes sign'}\n",
      "{'<OBJ_D>': 'a table', '<OBJ_A>': 'a blue BMW sign', '<OBJ_B>': 'a blue BMW sign', '<OBJ_C>': 'a blue BMW sign'}\n",
      "{'<OBJ_D>': 'a table', '<OBJ_A>': 'a black Mercedes sign', '<OBJ_B>': 'a black Mercedes sign', '<OBJ_C>': 'a blue Mercedes sign'}\n",
      "{'<OBJ_D>': 'a table', '<OBJ_A>': 'a blue BMW sign', '<OBJ_B>': 'a blue BMW sign', '<OBJ_C>': 'a blue gold coin'}\n",
      "{'<OBJ_D>': 'a table', '<OBJ_A>': 'a black Mercedes sign', '<OBJ_B>': 'a black Mercedes sign', '<OBJ_C>': 'a black gold coin'}\n",
      "{'<OBJ_D>': 'a table', '<OBJ_A>': 'a red BMW sign', '<OBJ_B>': 'a red BMW sign', '<OBJ_C>': 'a red gold coin'}\n",
      "{'<OBJ_D>': 'a table', '<OBJ_A>': 'a red BMW sign', '<OBJ_B>': 'a red gold coin', '<OBJ_C>': 'a blue gold coin'}\n",
      "{'<OBJ_D>': 'a table', '<OBJ_A>': 'a blue BMW sign', '<OBJ_B>': 'a blue gold coin', '<OBJ_C>': 'a blue gold coin'}\n"
     ]
    }
   ],
   "source": [
    "# setting one: car \n",
    "objects = [\"a {color} BMW sign\", \"a {color} Mercedes sign\", \"a {color} gold coin\"]\n",
    "object_colors = [\"red\", \"black\", \"blue\"]\n",
    "backgrounds = [\"a table\"]\n",
    "\n",
    "retspecs = []\n",
    "\n",
    "# iterate through possible permutations\n",
    "specs = []\n",
    "for bgr in backgrounds:\n",
    "    spec = {\"<OBJ_D>\": bgr}\n",
    "    for objperm in itertools.permutations(objects, 3):\n",
    "        # print(objperm)\n",
    "        for colorperm in itertools.permutations(object_colors, 3):\n",
    "            for posname, obj, color in zip([\"<OBJ_A>\", \"<OBJ_B>\", \"<OBJ_C>\"], objperm, colorperm):\n",
    "                spec[posname] = obj.format(color=color)\n",
    "            specs.append(deepcopy(spec))\n",
    "            \n",
    "print(len(specs))\n",
    "random.shuffle(specs)\n",
    "specs = specs[:10]\n",
    "retspecs += specs\n",
    "\n",
    "for spec in specs:\n",
    "    print(spec)\n",
    "    \n",
    "    \n",
    "# iterate through possible combinations\n",
    "specs = []\n",
    "for bgr in backgrounds:\n",
    "    spec = {\"<OBJ_D>\": bgr}\n",
    "    for objperm in itertools.combinations_with_replacement(objects, 3):\n",
    "        # print(objperm)\n",
    "        for colorperm in itertools.combinations_with_replacement(object_colors, 3):\n",
    "            for posname, obj, color in zip([\"<OBJ_A>\", \"<OBJ_B>\", \"<OBJ_C>\"], objperm, colorperm):\n",
    "                spec[posname] = obj.format(color=color)\n",
    "            specs.append(deepcopy(spec))\n",
    "            \n",
    "print(len(specs))\n",
    "random.shuffle(specs)\n",
    "specs = specs[:10]\n",
    "retspecs += specs\n",
    "\n",
    "for spec in specs:\n",
    "    print(spec)\n",
    "            "
   ]
  },
  {
   "cell_type": "code",
   "execution_count": null,
   "id": "98d718eb",
   "metadata": {},
   "outputs": [],
   "source": []
  }
 ],
 "metadata": {
  "kernelspec": {
   "display_name": "ControlNetV11",
   "language": "python",
   "name": "control-v11"
  },
  "language_info": {
   "codemirror_mode": {
    "name": "ipython",
    "version": 3
   },
   "file_extension": ".py",
   "mimetype": "text/x-python",
   "name": "python",
   "nbconvert_exporter": "python",
   "pygments_lexer": "ipython3",
   "version": "3.8.5"
  }
 },
 "nbformat": 4,
 "nbformat_minor": 5
}
