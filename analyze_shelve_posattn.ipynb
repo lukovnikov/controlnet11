{
 "cells": [
  {
   "cell_type": "code",
   "execution_count": null,
   "id": "24e28184",
   "metadata": {},
   "outputs": [],
   "source": [
    "%load_ext autoreload\n",
    "%autoreload 2"
   ]
  },
  {
   "cell_type": "code",
   "execution_count": null,
   "id": "1f30e0e8",
   "metadata": {},
   "outputs": [],
   "source": [
    "import shelve\n",
    "from typing import Callable\n",
    "from utils import image_grid, draw_text\n",
    "import pickle\n",
    "import os\n",
    "from PIL import Image"
   ]
  },
  {
   "cell_type": "code",
   "execution_count": null,
   "id": "f9a0d983",
   "metadata": {},
   "outputs": [],
   "source": [
    "def filter(images, attrs: dict):\n",
    "    ret = []\n",
    "    for datarow in images:\n",
    "        discard = False\n",
    "        for k, v in attrs.items():\n",
    "            if isinstance(v, Callable):\n",
    "                if k not in datarow or not v(datarow[k]):\n",
    "                    discard = True\n",
    "                    break\n",
    "            else:\n",
    "                if k not in datarow or datarow[k] != v:\n",
    "                    discard = True\n",
    "                    break\n",
    "        if not discard:\n",
    "            ret.append(datarow)\n",
    "    return ret\n",
    "\n",
    "def list_values_for(images, attr):\n",
    "    ret = set()\n",
    "    for datarow in images:\n",
    "        if attr in datarow:\n",
    "            ret.add(datarow[attr])\n",
    "    return ret"
   ]
  },
  {
   "cell_type": "code",
   "execution_count": null,
   "id": "02606a89",
   "metadata": {},
   "outputs": [],
   "source": [
    "#with open(\"pww_outputs/balls_ediffi.pkl\", \"rb\") as f:\n",
    "with open(\"pww_outputs/balls_sepswitch.pkl\", \"rb\") as f:\n",
    "    images = pickle.load(f)\n",
    "    print(len(images))"
   ]
  },
  {
   "cell_type": "code",
   "execution_count": null,
   "id": "4829db68",
   "metadata": {},
   "outputs": [],
   "source": [
    "print(images[0])\n",
    "#images[0][\"image\"]"
   ]
  },
  {
   "cell_type": "code",
   "execution_count": null,
   "id": "73de7e7c",
   "metadata": {
    "scrolled": false
   },
   "outputs": [],
   "source": [
    "available_thresholds = sorted(list_values_for(images, \"threshold\"))\n",
    "for threshold in available_thresholds:\n",
    "    print(f\"Threshold: {threshold}\")\n",
    "    filtered = filter(images, {\"threshold\": threshold})\n",
    "    available_strengths = sorted(list_values_for(filtered, \"strength\"))\n",
    "    for strength in available_strengths:\n",
    "        _filtered = filter(filtered, {\"strength\": strength})\n",
    "        _filtered = [o[\"image\"] for o in _filtered]\n",
    "        settings_imgs = draw_text(f\"t={threshold}\\ns={strength}\", _filtered[0].width, _filtered[0].height, fontsize=100)\n",
    "        _filtered = [settings_imgs] + _filtered\n",
    "        display(image_grid(_filtered, len(_filtered)))"
   ]
  },
  {
   "cell_type": "code",
   "execution_count": null,
   "id": "e90784dd",
   "metadata": {},
   "outputs": [],
   "source": []
  },
  {
   "cell_type": "code",
   "execution_count": null,
   "id": "c6ff64d0",
   "metadata": {},
   "outputs": [],
   "source": []
  }
 ],
 "metadata": {
  "kernelspec": {
   "display_name": "ControlNetV11",
   "language": "python",
   "name": "control-v11"
  },
  "language_info": {
   "codemirror_mode": {
    "name": "ipython",
    "version": 3
   },
   "file_extension": ".py",
   "mimetype": "text/x-python",
   "name": "python",
   "nbconvert_exporter": "python",
   "pygments_lexer": "ipython3",
   "version": "3.8.5"
  }
 },
 "nbformat": 4,
 "nbformat_minor": 5
}
